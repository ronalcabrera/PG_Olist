{
 "cells": [
  {
   "attachments": {},
   "cell_type": "markdown",
   "metadata": {},
   "source": [
    "Extracción"
   ]
  },
  {
   "cell_type": "code",
   "execution_count": 1,
   "metadata": {},
   "outputs": [],
   "source": [
    "import pandas as pd\n",
    "import numpy as np"
   ]
  },
  {
   "cell_type": "code",
   "execution_count": 2,
   "metadata": {},
   "outputs": [],
   "source": [
    "df_pedidos_elementos = pd.read_csv(\".\\Datasets\\olist_order_items_dataset.csv\",delimiter = ',',encoding = \"utf-8\")"
   ]
  },
  {
   "cell_type": "code",
   "execution_count": 3,
   "metadata": {},
   "outputs": [
    {
     "data": {
      "text/html": [
       "<div>\n",
       "<style scoped>\n",
       "    .dataframe tbody tr th:only-of-type {\n",
       "        vertical-align: middle;\n",
       "    }\n",
       "\n",
       "    .dataframe tbody tr th {\n",
       "        vertical-align: top;\n",
       "    }\n",
       "\n",
       "    .dataframe thead th {\n",
       "        text-align: right;\n",
       "    }\n",
       "</style>\n",
       "<table border=\"1\" class=\"dataframe\">\n",
       "  <thead>\n",
       "    <tr style=\"text-align: right;\">\n",
       "      <th></th>\n",
       "      <th>order_id</th>\n",
       "      <th>order_item_id</th>\n",
       "      <th>product_id</th>\n",
       "      <th>seller_id</th>\n",
       "      <th>shipping_limit_date</th>\n",
       "      <th>price</th>\n",
       "      <th>freight_value</th>\n",
       "    </tr>\n",
       "  </thead>\n",
       "  <tbody>\n",
       "    <tr>\n",
       "      <th>23583</th>\n",
       "      <td>35c2decdf1241aa585186aa82df2f768</td>\n",
       "      <td>2</td>\n",
       "      <td>052413504e5295cd66ec4ced0b310062</td>\n",
       "      <td>4869f7a5dfa277a7dca6462dcf3b52b2</td>\n",
       "      <td>2018-03-19 15:31:19</td>\n",
       "      <td>179.0</td>\n",
       "      <td>19.13</td>\n",
       "    </tr>\n",
       "    <tr>\n",
       "      <th>69857</th>\n",
       "      <td>9f6c2a2b1cf39bcea618bba4db493cb2</td>\n",
       "      <td>1</td>\n",
       "      <td>e29f2f8197f332ab172ad9ea6566853d</td>\n",
       "      <td>e9bc59e7b60fc3063eb2290deda4cced</td>\n",
       "      <td>2017-11-21 15:30:46</td>\n",
       "      <td>98.9</td>\n",
       "      <td>15.44</td>\n",
       "    </tr>\n",
       "    <tr>\n",
       "      <th>69849</th>\n",
       "      <td>9f68f87aaf72589c361305b9d4900b78</td>\n",
       "      <td>1</td>\n",
       "      <td>5fb1e24560c31b0eaa1911d4247187ed</td>\n",
       "      <td>e0878efa0e0b7e5313ac0b43bc04c081</td>\n",
       "      <td>2017-11-10 19:34:24</td>\n",
       "      <td>299.0</td>\n",
       "      <td>18.53</td>\n",
       "    </tr>\n",
       "    <tr>\n",
       "      <th>21882</th>\n",
       "      <td>31f8013402a0749b3ab433b1aee11754</td>\n",
       "      <td>1</td>\n",
       "      <td>b7d4874bd1f4dcf0d73abaaee0bff5f6</td>\n",
       "      <td>845e8036c3f7bf62099352f5ed910240</td>\n",
       "      <td>2018-08-20 03:25:31</td>\n",
       "      <td>26.9</td>\n",
       "      <td>15.29</td>\n",
       "    </tr>\n",
       "    <tr>\n",
       "      <th>82294</th>\n",
       "      <td>bb0165d4e039c23561d22f29114b65a6</td>\n",
       "      <td>1</td>\n",
       "      <td>fe75529a267b76ac6e96f0c322a899a4</td>\n",
       "      <td>620c87c171fb2a6dd6e8bb4dec959fc6</td>\n",
       "      <td>2018-06-15 10:58:56</td>\n",
       "      <td>119.9</td>\n",
       "      <td>37.53</td>\n",
       "    </tr>\n",
       "  </tbody>\n",
       "</table>\n",
       "</div>"
      ],
      "text/plain": [
       "                               order_id  order_item_id  \\\n",
       "23583  35c2decdf1241aa585186aa82df2f768              2   \n",
       "69857  9f6c2a2b1cf39bcea618bba4db493cb2              1   \n",
       "69849  9f68f87aaf72589c361305b9d4900b78              1   \n",
       "21882  31f8013402a0749b3ab433b1aee11754              1   \n",
       "82294  bb0165d4e039c23561d22f29114b65a6              1   \n",
       "\n",
       "                             product_id                         seller_id  \\\n",
       "23583  052413504e5295cd66ec4ced0b310062  4869f7a5dfa277a7dca6462dcf3b52b2   \n",
       "69857  e29f2f8197f332ab172ad9ea6566853d  e9bc59e7b60fc3063eb2290deda4cced   \n",
       "69849  5fb1e24560c31b0eaa1911d4247187ed  e0878efa0e0b7e5313ac0b43bc04c081   \n",
       "21882  b7d4874bd1f4dcf0d73abaaee0bff5f6  845e8036c3f7bf62099352f5ed910240   \n",
       "82294  fe75529a267b76ac6e96f0c322a899a4  620c87c171fb2a6dd6e8bb4dec959fc6   \n",
       "\n",
       "       shipping_limit_date  price  freight_value  \n",
       "23583  2018-03-19 15:31:19  179.0          19.13  \n",
       "69857  2017-11-21 15:30:46   98.9          15.44  \n",
       "69849  2017-11-10 19:34:24  299.0          18.53  \n",
       "21882  2018-08-20 03:25:31   26.9          15.29  \n",
       "82294  2018-06-15 10:58:56  119.9          37.53  "
      ]
     },
     "execution_count": 3,
     "metadata": {},
     "output_type": "execute_result"
    }
   ],
   "source": [
    "df_pedidos_elementos.sample(5)"
   ]
  },
  {
   "attachments": {},
   "cell_type": "markdown",
   "metadata": {},
   "source": [
    "Este dataset parece mas el detalle de cada orden (una tabla intermedia)"
   ]
  },
  {
   "attachments": {},
   "cell_type": "markdown",
   "metadata": {},
   "source": [
    "- order_id = id del pedido\n",
    "\n",
    "- Determinar diferencias entre id de item y id de product\n",
    "\n",
    "- shipping limit date = fecha limite de envío\n",
    "\n",
    "- freight_value = valor del flete"
   ]
  },
  {
   "cell_type": "code",
   "execution_count": 7,
   "metadata": {},
   "outputs": [
    {
     "name": "stdout",
     "output_type": "stream",
     "text": [
      "<class 'pandas.core.frame.DataFrame'>\n",
      "RangeIndex: 112650 entries, 0 to 112649\n",
      "Data columns (total 7 columns):\n",
      " #   Column               Non-Null Count   Dtype  \n",
      "---  ------               --------------   -----  \n",
      " 0   order_id             112650 non-null  object \n",
      " 1   order_item_id        112650 non-null  int64  \n",
      " 2   product_id           112650 non-null  object \n",
      " 3   seller_id            112650 non-null  object \n",
      " 4   shipping_limit_date  112650 non-null  object \n",
      " 5   price                112650 non-null  float64\n",
      " 6   freight_value        112650 non-null  float64\n",
      "dtypes: float64(2), int64(1), object(4)\n",
      "memory usage: 6.0+ MB\n"
     ]
    }
   ],
   "source": [
    "df_pedidos_elementos.info()"
   ]
  },
  {
   "cell_type": "code",
   "execution_count": 4,
   "metadata": {},
   "outputs": [
    {
     "data": {
      "text/plain": [
       "order_id               0\n",
       "order_item_id          0\n",
       "product_id             0\n",
       "seller_id              0\n",
       "shipping_limit_date    0\n",
       "price                  0\n",
       "freight_value          0\n",
       "dtype: int64"
      ]
     },
     "execution_count": 4,
     "metadata": {},
     "output_type": "execute_result"
    }
   ],
   "source": [
    "# Verificamos cantidad de nulos por columna (no hay nulos)\n",
    "\n",
    "df_pedidos_elementos.isnull().sum()"
   ]
  },
  {
   "attachments": {},
   "cell_type": "markdown",
   "metadata": {},
   "source": [
    "Podemos determinar que esta tabla es una tabla intermedia que detalla la informacion de cada pedido (order)."
   ]
  },
  {
   "cell_type": "code",
   "execution_count": 20,
   "metadata": {},
   "outputs": [],
   "source": [
    "# Encontrar outliers\n",
    "def find_outliers(df, column):\n",
    "    q1 = df[column].quantile(0.25)\n",
    "    q3 = df[column].quantile(0.75)\n",
    "    iqr = q3 - q1\n",
    "    lower_bound = q1 - (3 * iqr)\n",
    "    upper_bound = q3 + (3 * iqr)\n",
    "    outliers = df[(df[column] < lower_bound) | (df[column] > upper_bound)]\n",
    "    return outliers"
   ]
  },
  {
   "cell_type": "code",
   "execution_count": 22,
   "metadata": {},
   "outputs": [
    {
     "data": {
      "text/html": [
       "<div>\n",
       "<style scoped>\n",
       "    .dataframe tbody tr th:only-of-type {\n",
       "        vertical-align: middle;\n",
       "    }\n",
       "\n",
       "    .dataframe tbody tr th {\n",
       "        vertical-align: top;\n",
       "    }\n",
       "\n",
       "    .dataframe thead th {\n",
       "        text-align: right;\n",
       "    }\n",
       "</style>\n",
       "<table border=\"1\" class=\"dataframe\">\n",
       "  <thead>\n",
       "    <tr style=\"text-align: right;\">\n",
       "      <th></th>\n",
       "      <th>order_id</th>\n",
       "      <th>order_item_id</th>\n",
       "      <th>product_id</th>\n",
       "      <th>seller_id</th>\n",
       "      <th>shipping_limit_date</th>\n",
       "      <th>price</th>\n",
       "      <th>freight_value</th>\n",
       "    </tr>\n",
       "  </thead>\n",
       "  <tbody>\n",
       "    <tr>\n",
       "      <th>7</th>\n",
       "      <td>000576fe39319847cbb9d288c5617fa6</td>\n",
       "      <td>1</td>\n",
       "      <td>557d850972a7d6f792fd18ae1400d9b6</td>\n",
       "      <td>5996cddab893a4652a15592fb58ab8db</td>\n",
       "      <td>2018-07-10 12:30:45</td>\n",
       "      <td>810.00</td>\n",
       "      <td>70.75</td>\n",
       "    </tr>\n",
       "    <tr>\n",
       "      <th>73</th>\n",
       "      <td>002b430ff89b3a24c31a1170acbbedea</td>\n",
       "      <td>1</td>\n",
       "      <td>cc47c0863559499f01b4cad750929d10</td>\n",
       "      <td>7a67c85e85bb2ce8582c35f2203ad736</td>\n",
       "      <td>2017-06-26 22:10:14</td>\n",
       "      <td>199.99</td>\n",
       "      <td>65.56</td>\n",
       "    </tr>\n",
       "    <tr>\n",
       "      <th>83</th>\n",
       "      <td>0030ff924c38549807645976adeef2c0</td>\n",
       "      <td>1</td>\n",
       "      <td>bd7cab8de4d7943286634023cc06f8ff</td>\n",
       "      <td>855668e0971d4dfd7bef1b6a4133b41b</td>\n",
       "      <td>2018-04-06 17:10:21</td>\n",
       "      <td>225.00</td>\n",
       "      <td>67.24</td>\n",
       "    </tr>\n",
       "    <tr>\n",
       "      <th>98</th>\n",
       "      <td>0036757472ece3dde52fd4bfd929c90e</td>\n",
       "      <td>1</td>\n",
       "      <td>4c1bbc12438daec98a77243c2bf7a3ba</td>\n",
       "      <td>7c67e1448b00f6e969d365cea6b010ab</td>\n",
       "      <td>2018-08-08 15:10:11</td>\n",
       "      <td>136.99</td>\n",
       "      <td>66.04</td>\n",
       "    </tr>\n",
       "    <tr>\n",
       "      <th>110</th>\n",
       "      <td>003edccf16bc5ec447f592913b3df2b4</td>\n",
       "      <td>1</td>\n",
       "      <td>500870614ddcf5bd84f7d26861026c8a</td>\n",
       "      <td>ef506c96320abeedfb894c34db06f478</td>\n",
       "      <td>2018-07-12 10:15:21</td>\n",
       "      <td>14.00</td>\n",
       "      <td>50.85</td>\n",
       "    </tr>\n",
       "    <tr>\n",
       "      <th>...</th>\n",
       "      <td>...</td>\n",
       "      <td>...</td>\n",
       "      <td>...</td>\n",
       "      <td>...</td>\n",
       "      <td>...</td>\n",
       "      <td>...</td>\n",
       "      <td>...</td>\n",
       "    </tr>\n",
       "    <tr>\n",
       "      <th>112472</th>\n",
       "      <td>ff96d596c25445650eee60b94fa62244</td>\n",
       "      <td>1</td>\n",
       "      <td>f7b30f48c235d715e00822023d8a4dce</td>\n",
       "      <td>7238a95bb63ef7e498389fb863b834a1</td>\n",
       "      <td>2018-05-04 13:50:07</td>\n",
       "      <td>329.00</td>\n",
       "      <td>127.55</td>\n",
       "    </tr>\n",
       "    <tr>\n",
       "      <th>112553</th>\n",
       "      <td>ffc2638415f3ce34e88641eef792c1fc</td>\n",
       "      <td>1</td>\n",
       "      <td>bc2d6310e5cbd60facb2f9c8d9471597</td>\n",
       "      <td>dc317f341ab0e22f39acbd9dbf9b4a1f</td>\n",
       "      <td>2017-06-12 13:41:58</td>\n",
       "      <td>629.00</td>\n",
       "      <td>67.08</td>\n",
       "    </tr>\n",
       "    <tr>\n",
       "      <th>112613</th>\n",
       "      <td>ffebd80e3291e811c308365936897efd</td>\n",
       "      <td>1</td>\n",
       "      <td>4cc4d02efc8f249c13355147fb44e34d</td>\n",
       "      <td>d1c7fa84e48cfa21a0e595167c1c500e</td>\n",
       "      <td>2018-07-18 20:23:55</td>\n",
       "      <td>129.90</td>\n",
       "      <td>51.20</td>\n",
       "    </tr>\n",
       "    <tr>\n",
       "      <th>112634</th>\n",
       "      <td>fff8287bbae429a99bb7e8c21d151c41</td>\n",
       "      <td>1</td>\n",
       "      <td>bee2e070c39f3dd2f6883a17a5f0da45</td>\n",
       "      <td>4e922959ae960d389249c378d1c939f5</td>\n",
       "      <td>2018-03-27 12:29:22</td>\n",
       "      <td>180.00</td>\n",
       "      <td>48.14</td>\n",
       "    </tr>\n",
       "    <tr>\n",
       "      <th>112635</th>\n",
       "      <td>fff8287bbae429a99bb7e8c21d151c41</td>\n",
       "      <td>2</td>\n",
       "      <td>bee2e070c39f3dd2f6883a17a5f0da45</td>\n",
       "      <td>4e922959ae960d389249c378d1c939f5</td>\n",
       "      <td>2018-03-27 12:29:22</td>\n",
       "      <td>180.00</td>\n",
       "      <td>48.14</td>\n",
       "    </tr>\n",
       "  </tbody>\n",
       "</table>\n",
       "<p>5538 rows × 7 columns</p>\n",
       "</div>"
      ],
      "text/plain": [
       "                                order_id  order_item_id  \\\n",
       "7       000576fe39319847cbb9d288c5617fa6              1   \n",
       "73      002b430ff89b3a24c31a1170acbbedea              1   \n",
       "83      0030ff924c38549807645976adeef2c0              1   \n",
       "98      0036757472ece3dde52fd4bfd929c90e              1   \n",
       "110     003edccf16bc5ec447f592913b3df2b4              1   \n",
       "...                                  ...            ...   \n",
       "112472  ff96d596c25445650eee60b94fa62244              1   \n",
       "112553  ffc2638415f3ce34e88641eef792c1fc              1   \n",
       "112613  ffebd80e3291e811c308365936897efd              1   \n",
       "112634  fff8287bbae429a99bb7e8c21d151c41              1   \n",
       "112635  fff8287bbae429a99bb7e8c21d151c41              2   \n",
       "\n",
       "                              product_id                         seller_id  \\\n",
       "7       557d850972a7d6f792fd18ae1400d9b6  5996cddab893a4652a15592fb58ab8db   \n",
       "73      cc47c0863559499f01b4cad750929d10  7a67c85e85bb2ce8582c35f2203ad736   \n",
       "83      bd7cab8de4d7943286634023cc06f8ff  855668e0971d4dfd7bef1b6a4133b41b   \n",
       "98      4c1bbc12438daec98a77243c2bf7a3ba  7c67e1448b00f6e969d365cea6b010ab   \n",
       "110     500870614ddcf5bd84f7d26861026c8a  ef506c96320abeedfb894c34db06f478   \n",
       "...                                  ...                               ...   \n",
       "112472  f7b30f48c235d715e00822023d8a4dce  7238a95bb63ef7e498389fb863b834a1   \n",
       "112553  bc2d6310e5cbd60facb2f9c8d9471597  dc317f341ab0e22f39acbd9dbf9b4a1f   \n",
       "112613  4cc4d02efc8f249c13355147fb44e34d  d1c7fa84e48cfa21a0e595167c1c500e   \n",
       "112634  bee2e070c39f3dd2f6883a17a5f0da45  4e922959ae960d389249c378d1c939f5   \n",
       "112635  bee2e070c39f3dd2f6883a17a5f0da45  4e922959ae960d389249c378d1c939f5   \n",
       "\n",
       "        shipping_limit_date   price  freight_value  \n",
       "7       2018-07-10 12:30:45  810.00          70.75  \n",
       "73      2017-06-26 22:10:14  199.99          65.56  \n",
       "83      2018-04-06 17:10:21  225.00          67.24  \n",
       "98      2018-08-08 15:10:11  136.99          66.04  \n",
       "110     2018-07-12 10:15:21   14.00          50.85  \n",
       "...                     ...     ...            ...  \n",
       "112472  2018-05-04 13:50:07  329.00         127.55  \n",
       "112553  2017-06-12 13:41:58  629.00          67.08  \n",
       "112613  2018-07-18 20:23:55  129.90          51.20  \n",
       "112634  2018-03-27 12:29:22  180.00          48.14  \n",
       "112635  2018-03-27 12:29:22  180.00          48.14  \n",
       "\n",
       "[5538 rows x 7 columns]"
      ]
     },
     "execution_count": 22,
     "metadata": {},
     "output_type": "execute_result"
    }
   ],
   "source": [
    "outliers = find_outliers(df_pedidos_elementos, 'freight_value')\n",
    "outliers"
   ]
  },
  {
   "cell_type": "code",
   "execution_count": null,
   "metadata": {},
   "outputs": [],
   "source": []
  },
  {
   "attachments": {},
   "cell_type": "markdown",
   "metadata": {},
   "source": [
    "KPIs:\n",
    "\n",
    "- Disminuir-optimizar fecha limite de envio.\n",
    "- Analizar valores de flete altos para intentar disminuir su costo. \n"
   ]
  }
 ],
 "metadata": {
  "kernelspec": {
   "display_name": "Python 3",
   "language": "python",
   "name": "python3"
  },
  "language_info": {
   "codemirror_mode": {
    "name": "ipython",
    "version": 3
   },
   "file_extension": ".py",
   "mimetype": "text/x-python",
   "name": "python",
   "nbconvert_exporter": "python",
   "pygments_lexer": "ipython3",
   "version": "3.10.7"
  },
  "orig_nbformat": 4,
  "vscode": {
   "interpreter": {
    "hash": "c259d08bc2cb2f5e0792d6b908d68d0a519f1348398ed9bbfffb6d4d4eafb58d"
   }
  }
 },
 "nbformat": 4,
 "nbformat_minor": 2
}
