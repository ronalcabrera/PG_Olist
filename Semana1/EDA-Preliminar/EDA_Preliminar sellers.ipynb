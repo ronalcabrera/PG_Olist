{
 "cells": [
  {
   "attachments": {},
   "cell_type": "markdown",
   "metadata": {},
   "source": [
    "## Librerias"
   ]
  },
  {
   "cell_type": "code",
   "execution_count": 1,
   "metadata": {},
   "outputs": [],
   "source": [
    "import pandas as pd\n",
    "import numpy as np\n",
    "import matplotlib.pyplot as plt"
   ]
  },
  {
   "cell_type": "markdown",
   "metadata": {},
   "source": [
    "## EDA"
   ]
  },
  {
   "cell_type": "code",
   "execution_count": 2,
   "metadata": {},
   "outputs": [],
   "source": [
    "sellers = pd.read_csv('./Datasets/olist_sellers_dataset.csv', delimiter=',', encoding='UTF-8')"
   ]
  },
  {
   "attachments": {},
   "cell_type": "markdown",
   "metadata": {},
   "source": [
    "Verifico integridad de los datos en sellers"
   ]
  },
  {
   "cell_type": "code",
   "execution_count": 3,
   "metadata": {},
   "outputs": [
    {
     "name": "stdout",
     "output_type": "stream",
     "text": [
      "<class 'pandas.core.frame.DataFrame'>\n",
      "RangeIndex: 3095 entries, 0 to 3094\n",
      "Data columns (total 4 columns):\n",
      " #   Column                  Non-Null Count  Dtype \n",
      "---  ------                  --------------  ----- \n",
      " 0   seller_id               3095 non-null   object\n",
      " 1   seller_zip_code_prefix  3095 non-null   int64 \n",
      " 2   seller_city             3095 non-null   object\n",
      " 3   seller_state            3095 non-null   object\n",
      "dtypes: int64(1), object(3)\n",
      "memory usage: 96.8+ KB\n"
     ]
    }
   ],
   "source": [
    "sellers.info()"
   ]
  },
  {
   "cell_type": "markdown",
   "metadata": {},
   "source": [
    "No hay nulos"
   ]
  },
  {
   "cell_type": "code",
   "execution_count": 6,
   "metadata": {},
   "outputs": [
    {
     "data": {
      "text/html": [
       "<div>\n",
       "<style scoped>\n",
       "    .dataframe tbody tr th:only-of-type {\n",
       "        vertical-align: middle;\n",
       "    }\n",
       "\n",
       "    .dataframe tbody tr th {\n",
       "        vertical-align: top;\n",
       "    }\n",
       "\n",
       "    .dataframe thead th {\n",
       "        text-align: right;\n",
       "    }\n",
       "</style>\n",
       "<table border=\"1\" class=\"dataframe\">\n",
       "  <thead>\n",
       "    <tr style=\"text-align: right;\">\n",
       "      <th></th>\n",
       "      <th>seller_id</th>\n",
       "      <th>seller_zip_code_prefix</th>\n",
       "      <th>seller_city</th>\n",
       "      <th>seller_state</th>\n",
       "    </tr>\n",
       "  </thead>\n",
       "  <tbody>\n",
       "    <tr>\n",
       "      <th>0</th>\n",
       "      <td>3442f8959a84dea7ee197c632cb2df15</td>\n",
       "      <td>13023</td>\n",
       "      <td>campinas</td>\n",
       "      <td>SP</td>\n",
       "    </tr>\n",
       "    <tr>\n",
       "      <th>1</th>\n",
       "      <td>d1b65fc7debc3361ea86b5f14c68d2e2</td>\n",
       "      <td>13844</td>\n",
       "      <td>mogi guacu</td>\n",
       "      <td>SP</td>\n",
       "    </tr>\n",
       "    <tr>\n",
       "      <th>2</th>\n",
       "      <td>ce3ad9de960102d0677a81f5d0bb7b2d</td>\n",
       "      <td>20031</td>\n",
       "      <td>rio de janeiro</td>\n",
       "      <td>RJ</td>\n",
       "    </tr>\n",
       "    <tr>\n",
       "      <th>3</th>\n",
       "      <td>c0f3eea2e14555b6faeea3dd58c1b1c3</td>\n",
       "      <td>4195</td>\n",
       "      <td>sao paulo</td>\n",
       "      <td>SP</td>\n",
       "    </tr>\n",
       "    <tr>\n",
       "      <th>4</th>\n",
       "      <td>51a04a8a6bdcb23deccc82b0b80742cf</td>\n",
       "      <td>12914</td>\n",
       "      <td>braganca paulista</td>\n",
       "      <td>SP</td>\n",
       "    </tr>\n",
       "    <tr>\n",
       "      <th>...</th>\n",
       "      <td>...</td>\n",
       "      <td>...</td>\n",
       "      <td>...</td>\n",
       "      <td>...</td>\n",
       "    </tr>\n",
       "    <tr>\n",
       "      <th>3090</th>\n",
       "      <td>98dddbc4601dd4443ca174359b237166</td>\n",
       "      <td>87111</td>\n",
       "      <td>sarandi</td>\n",
       "      <td>PR</td>\n",
       "    </tr>\n",
       "    <tr>\n",
       "      <th>3091</th>\n",
       "      <td>f8201cab383e484733266d1906e2fdfa</td>\n",
       "      <td>88137</td>\n",
       "      <td>palhoca</td>\n",
       "      <td>SC</td>\n",
       "    </tr>\n",
       "    <tr>\n",
       "      <th>3092</th>\n",
       "      <td>74871d19219c7d518d0090283e03c137</td>\n",
       "      <td>4650</td>\n",
       "      <td>sao paulo</td>\n",
       "      <td>SP</td>\n",
       "    </tr>\n",
       "    <tr>\n",
       "      <th>3093</th>\n",
       "      <td>e603cf3fec55f8697c9059638d6c8eb5</td>\n",
       "      <td>96080</td>\n",
       "      <td>pelotas</td>\n",
       "      <td>RS</td>\n",
       "    </tr>\n",
       "    <tr>\n",
       "      <th>3094</th>\n",
       "      <td>9e25199f6ef7e7c347120ff175652c3b</td>\n",
       "      <td>12051</td>\n",
       "      <td>taubate</td>\n",
       "      <td>SP</td>\n",
       "    </tr>\n",
       "  </tbody>\n",
       "</table>\n",
       "<p>3095 rows × 4 columns</p>\n",
       "</div>"
      ],
      "text/plain": [
       "                             seller_id  seller_zip_code_prefix  \\\n",
       "0     3442f8959a84dea7ee197c632cb2df15                   13023   \n",
       "1     d1b65fc7debc3361ea86b5f14c68d2e2                   13844   \n",
       "2     ce3ad9de960102d0677a81f5d0bb7b2d                   20031   \n",
       "3     c0f3eea2e14555b6faeea3dd58c1b1c3                    4195   \n",
       "4     51a04a8a6bdcb23deccc82b0b80742cf                   12914   \n",
       "...                                ...                     ...   \n",
       "3090  98dddbc4601dd4443ca174359b237166                   87111   \n",
       "3091  f8201cab383e484733266d1906e2fdfa                   88137   \n",
       "3092  74871d19219c7d518d0090283e03c137                    4650   \n",
       "3093  e603cf3fec55f8697c9059638d6c8eb5                   96080   \n",
       "3094  9e25199f6ef7e7c347120ff175652c3b                   12051   \n",
       "\n",
       "            seller_city seller_state  \n",
       "0              campinas           SP  \n",
       "1            mogi guacu           SP  \n",
       "2        rio de janeiro           RJ  \n",
       "3             sao paulo           SP  \n",
       "4     braganca paulista           SP  \n",
       "...                 ...          ...  \n",
       "3090            sarandi           PR  \n",
       "3091            palhoca           SC  \n",
       "3092          sao paulo           SP  \n",
       "3093            pelotas           RS  \n",
       "3094            taubate           SP  \n",
       "\n",
       "[3095 rows x 4 columns]"
      ]
     },
     "execution_count": 6,
     "metadata": {},
     "output_type": "execute_result"
    }
   ],
   "source": [
    "sellers"
   ]
  },
  {
   "cell_type": "code",
   "execution_count": 10,
   "metadata": {},
   "outputs": [
    {
     "name": "stdout",
     "output_type": "stream",
     "text": [
      "['campinas' 'mogi guacu' 'rio de janeiro' 'sao paulo' 'braganca paulista'\n",
      " 'brejao' 'penapolis' 'curitiba' 'anapolis' 'itirapina' 'tubarao'\n",
      " 'lauro de freitas' 'imbituba' 'brasilia' 'porto seguro' 'guaruja'\n",
      " 'tabatinga' 'salto' 'tres de maio' 'belo horizonte' 'arapongas'\n",
      " 'sao bernardo do campo' 'tatui' 'garopaba' 'camanducaia' 'tupa'\n",
      " 'guarulhos' 'sao jose dos pinhais' 'sao ludgero' 'sao jose' 'piracicaba'\n",
      " 'porto alegre' 'congonhal' 'santo andre' 'osasco' 'valinhos' 'joinville'\n",
      " 'saquarema' 'barra velha' 'petropolis' 'santo antonio da patrulha'\n",
      " 'ponta grossa' 'santana de parnaiba' 'sao carlos' 'ibitinga' 'barueri'\n",
      " 'caxias do sul' 'araguari' 'contagem' 'jaragua do sul' 'lages - sc'\n",
      " 'bento goncalves' 'catanduva' 'ribeirao pires' 'jaboticabal' 'echapora'\n",
      " 'cotia' 'rio do sul' 'sorocaba' 'pradopolis' 'itaborai' 'mirassol'\n",
      " 'birigui' 'assis' 'jaguariuna' 'araraquara' 'macae' 'rio claro'\n",
      " 'londrina' 'ribeirao preto' 'tres coracoes' 'nhandeara' 'orleans'\n",
      " 'cuiaba' 'formosa do oeste' 'santos' 'santa terezinha de goias'\n",
      " 'arvorezinha' 'guiricema' 'caruaru' 'franca' 'salvador' 'diadema'\n",
      " 'itaquaquecetuba' 'lencois paulista' 'carapicuiba' 'uruacu' 'itajai'\n",
      " 'loanda' 'maringa' 'ferraz de vasconcelos' 'limeira' 'claudio' 'niteroi'\n",
      " 'osvaldo cruz' 'sao goncalo' 'jaciara' 'balenario camboriu' 'timbo'\n",
      " 'jacutinga' 'fortaleza' 'ferraz de  vasconcelos' 'mirandopolis' 'bauru'\n",
      " 'jacarei' 'itu' 'laranjeiras do sul' 'videira' 'florianopolis'\n",
      " 'itapecerica da serra' 'mamanguape' 'ponte nova' 'goioere' 'pederneiras'\n",
      " 'itapevi' 'goiania' 'campina grande' 'estancia velha' 'resende' 'maua'\n",
      " 'caratinga' 'auriflama/sp' 'cafelandia' 'uba' 'sao paulo / sao paulo'\n",
      " 'sao jose do rio preto' 'porto ferreira' 'tres coroas' 'blumenau'\n",
      " 'mogi das cruzes' 'jaci' 'laranjal paulista' 'americana' 'sertanopolis'\n",
      " 'apucarana' 'colombo' 'vicente de carvalho' 'mesquita' 'sao pauo'\n",
      " 'cascavel' 'fazenda rio grande' 'taboao da serra' 'sao jose dos campos'\n",
      " 'toledo' 'marechal candido rondon' 'jundiai' 'mandirituba' 'suzano'\n",
      " 'vespasiano' 'santa rosa' 'sao joaquim da barra' 'santo antonio de posse'\n",
      " 'uruguaiana' 'campanha' 'piracanjuba' 'concordia' 'santa rita do sapucai'\n",
      " 'barretos' 'indaiatuba' 'nilopolis' 'pompeia' 'barro alto' 'são paulo'\n",
      " 'praia grande' 'luiz alves' 'brusque' 'criciuma' 'jales' 'atibaia'\n",
      " 'rio branco' 'barra mansa' 'marilia' 'bahia' 'taubate' 'cascavael'\n",
      " 'monteiro lobato' 'viana' 'paraiba do sul' 'mococa' 'sao roque' 'passos'\n",
      " 'francisco beltrao' 'tocantins' 'porto belo' 'nova iguacu' 'icara'\n",
      " 'lajeado' 'horizontina' 'votorantim' 'campo bom' 'monte alto'\n",
      " 'fernandopolis' 'pedreira' 'poa' 'divinopolis' 'santa barbara d´oeste'\n",
      " 'canoas' 'mombuca' 'sete lagoas' 'campo do meio' 'cordeiropolis'\n",
      " 'uberlandia' 'santa barbara d oeste' 'volta redonda' '04482255'\n",
      " 'aracatuba' 'monte siao' 'garuva' 'bonfinopolis de minas' 'cosmopolis'\n",
      " 'pocos de caldas' 'artur nogueira' 'joao pessoa' 'dois corregos'\n",
      " 'araquari' 'novo hamburgo, rio grande do sul, brasil' 'floranopolis'\n",
      " 'sumare' 'guaira' 'cachoeiro de itapemirim' 'serrana' 'rolandia'\n",
      " 'congonhas' 'sao  jose dos pinhais' 'boituva' 'mairipora' 'guaimbe'\n",
      " 'parai' 'aperibe' 'jaguaruna' 'vila velha' 'juiz de fora' 'fronteira'\n",
      " 'novo horizonte' 'pilar do sul' 'itajobi' 'cariacica / es' 'prados'\n",
      " 'mucambo' 'montes claros' 'vicosa' 'porto velho' 'sao jose do rio pardo'\n",
      " 'pato branco' 'sao joao del rei' 'presidente prudente' 'paracambi'\n",
      " 'serra negra' 'sao caetano do sul' 'bom jardim' 'serra redonda'\n",
      " 'sao francisco do sul' 'betim' 'imbituva' 'guaratuba' 'teresina'\n",
      " \"sao miguel d'oeste\" 'california' 'japira' 'foz do iguacu'\n",
      " 'nova friburgo' 'itau de minas' 'oliveira' 'sabara' 'pedrinhas paulista'\n",
      " 'votuporanga' 'holambra' 'ararangua' 'pinhais' 'pato bragado' 'carazinho'\n",
      " 'arinos' 'sao pedro' 'lages' 'ampere' 'itauna' 'mogi mirim' 'curitibanos'\n",
      " 'brasilia df' 'mogi das cruses' 'hortolandia' 'ipatinga' 'laguna'\n",
      " 'dores de campos' 'sao paulo - sp' 'araras' 'divisa nova'\n",
      " 'igaracu do tiete' 'pitangueiras' 'campo grande' 'garca'\n",
      " 'presidente epitacio' 'sbc/sp' \"arraial d'ajuda (porto seguro)\"\n",
      " 'pacatuba' 'formosa' 'borda da mata' 'ubatuba' 'entre rios do oeste'\n",
      " 'formiga' 'venancio aires' 'navegantes' 'cruzeiro' 'santa maria' 'muriae'\n",
      " 'santo andre/sao paulo' 'ipe' 'messias targino' 'varginha' 'botucatu'\n",
      " 'domingos martins' 'uberaba' 'coronel fabriciano' 'cachoeirinha'\n",
      " 's jose do rio preto' 'taruma' 'pirassununga' 'aruja' 'sp / sp'\n",
      " 'angra dos reis' 'juzeiro do norte' 'laurentino' 'flores da cunha'\n",
      " 'montenegro' 'pedregulho' 'novo hamburgo' 'torres' 'aracaju'\n",
      " 'santa catarina' 'joao pinheiro' 'bady bassitt' 'sinop' 'guarapuava'\n",
      " 'araucaria' 'vitoria' 'batatais' 'lagoa santa' 'chapeco' 'umuarama'\n",
      " 'belford roxo' 'cariacica' 'monte alegre do sul' 'sp' 'lagoa da prata'\n",
      " 'rolante' 'teresopolis' 'itaporanga' 'campo largo' 'sao joao de meriti'\n",
      " 'maua/sao paulo' 'bom jesus dos perdoes' 'brotas' 'irece' 'coxim' 'jau'\n",
      " 'conselheiro lafaiete' 'amparo' 'sao miguel do oeste' 'gaspar'\n",
      " 'rio bonito' 'mandaguari' 'vargem grande paulista' 'conchal' 'cambe'\n",
      " 'marialva' 'alfenas' 'balneario camboriu' 'palhoca'\n",
      " 'sao bernardo do capo' 'guara' 'colatina' 'franco da rocha' 'lambari'\n",
      " 'mogi das cruzes / sp' 'treze tilias' 'rio de janeiro \\\\rio de janeiro'\n",
      " 'paulo lopes' 'santa cecilia' 'braco do norte' 'floresta' 'farroupilha'\n",
      " 'castro' 'luziania' 'joao monlevade' 'pelotas' 'sao bento'\n",
      " 'campos dos goytacazes' 'ouro fino' 'sao jose dos pinhas' 'tiete'\n",
      " 'viamao' 'janauba' 'capivari' 'santa terezinha de itaipu' 'igrejinha'\n",
      " 'sao bento do sul' 'duque de caxias' 'araxa' 'canoinhas' 'recife'\n",
      " 'barbacena/ minas gerais' 'vera cruz' 'parnamirim' 'santo angelo'\n",
      " 'paincandu' 'tres rios' 'tanabi' 'portoferreira' 'itatiba' 'sarandi'\n",
      " 'cravinhos' 'morrinhos' 'bebedouro' 'almirante tamandare' 'bertioga'\n",
      " 'natal' 'belo horizont' 'ivoti' 'andira-pr' 'cerqueira cesar' 'marapoama'\n",
      " 'imigrante' 'mairinque' 'sao paulo sp' 'rio de janeiro / rio de janeiro'\n",
      " 'andradas' 'sando andre' 'nova odessa' 'paulinia' 'extrema' 'olimpia'\n",
      " 'angra dos reis rj' 'ronda alta' 'sao  paulo' 'sao vicente' 'pinhais/pr'\n",
      " 'portao' 'registro' 'ao bernardo do campo' 'carmo do cajuru'\n",
      " 'embu das artes' 'fernando prestes' 'castro pires' 'vargem grande do sul'\n",
      " 'campina das missoes' 'sao pedro da aldeia' 'miguelopolis' 'itapui' 'sbc'\n",
      " 'neopolis' 'mineiros do tiete' 'varzea paulista' 'nova lima' 'barbacena'\n",
      " 'caieiras' 'buritama' 'erechim' 'itapetininga' 'pinhalzinho' 'descalvado'\n",
      " 'pitanga' 'bage' 'taio' \"santa barbara d'oeste\" 'patos de minas'\n",
      " 'garulhos' 'jarinu' 'nova petropolis' 'ribeirao preto / sao paulo'\n",
      " 'camboriu' 'nova trento' 'sao luis' 'sao jose do rio pret' 'eusebio'\n",
      " 'itaipulandia' 'ipira' 'campo magro' 'tiradentes' 'sao paluo' 'baependi'\n",
      " 'embu guacu' 'paraiso do sul' 'aparecida' 'cataguases' 'bariri'\n",
      " 'abadia de goias' 'alambari' 'ji parana' 'vassouras' 'lorena' 'rodeio'\n",
      " 'louveira' 'guanhaes' 'santo antonio de padua' 'presidente getulio'\n",
      " 'campos novos' 'eunapolis' 'engenheiro coelho' 'rio das pedras'\n",
      " 'afonso claudio' 'carapicuiba / sao paulo' 'centro' 'parana' 'indaial'\n",
      " 'bombinhas' 'orlandia' 'itapeva' 'sao sebastiao' 'macatuba'\n",
      " 'sao joao da boa vista' 'teixeira soares' 'mandaguacu' 'rio do oeste'\n",
      " 'vendas@creditparts.com.br' 'armacao dos buzios' 'mateus leme'\n",
      " 'sao paulop' 'campo limpo paulista' 'socorro' 'serra' 'bocaiuva do sul'\n",
      " 'ilheus' 'imbe' 'soledade' 'cajamar' 'rio negrinho' 'clementina'\n",
      " 'francisco morato' 'rio grande' 'xaxim' 'manaus' 'terra boa'\n",
      " 'minas gerais' 'avare' 'ibirite' 'santa maria da serra' 'auriflama'\n",
      " 'condor' 'ibia' 'guanambi' 'caucaia' 'cordilheira alta' 'carmo da mata'\n",
      " 'ouro preto' 'pedro leopoldo' 'santa rosa de viterbo' 'xanxere'\n",
      " 'alvares machado' 'scao jose do rio pardo' 'ribeirao das neves'\n",
      " 'medianeira' 'massaranduba' 'cornelio procopio' 'pirituba' 'jambeiro'\n",
      " 'sao leopoldo' 'aguas claras df' 'ribeirao pretp' 'cianorte'\n",
      " 'feira de santana' 'cachoeira do sul' 'guariba'\n",
      " 'sao sebastiao da grama/sp' 'dracena' 'ourinhos' 'robeirao preto'\n",
      " 'cacador' 'gama' 'queimados' 'cananeia' 'presidente bernardes' 'pinhalao'\n",
      " 'sombrio' 'campo mourao' 'ilicinea' 'itabira' 'barrinha' 'jussara'\n",
      " 'uniao da vitoria' 'triunfo' 'santa cruz do sul' 'colorado' 'itapema'\n",
      " 'sapiranga' 'paranavai' 'alvorada' 'ipaussu' 'rio verde' 'mage'\n",
      " 'tabao da serra' 'bofete' 'picarras' 'marica' 'jaragua'\n",
      " 'governador valadares' 'rio de janeiro, rio de janeiro, brasil'\n",
      " 'pouso alegre' 'timoteo' 'muqui' 'ipua' 'jacarei / sao paulo'\n",
      " 'varzea alegre' 'guaratingueta' 'tambau' 'irati' 'riberao preto'\n",
      " 'aparecida de goiania' 'bandeirantes' 'vitoria de santo antao' 'palotina'\n",
      " 'leme']\n"
     ]
    }
   ],
   "source": [
    "print(sellers.seller_city.unique())"
   ]
  },
  {
   "attachments": {},
   "cell_type": "markdown",
   "metadata": {},
   "source": [
    "Normalizar estados y ciudades en una tabla maestro, por ejemplo:<br>\n",
    "• /sp = Sao Paulo, sao paulo / sao paulo<br>\n",
    "• - sc = Santa Catarina<br>\n",
    "entre otros"
   ]
  },
  {
   "cell_type": "code",
   "execution_count": 16,
   "metadata": {},
   "outputs": [
    {
     "name": "stdout",
     "output_type": "stream",
     "text": [
      "['SP' 'RJ' 'PE' 'PR' 'GO' 'SC' 'BA' 'DF' 'RS' 'MG' 'RN' 'MT' 'CE' 'PB'\n",
      " 'AC' 'ES' 'RO' 'PI' 'MS' 'SE' 'MA' 'AM' 'PA']\n",
      "Hay 23 estados\n"
     ]
    }
   ],
   "source": [
    "print(sellers.seller_state.unique())\n",
    "print('Hay',np.count_nonzero(sellers.seller_state.unique()), 'estados')"
   ]
  },
  {
   "attachments": {},
   "cell_type": "markdown",
   "metadata": {},
   "source": [
    "En Brasil hay 27 estados, por lo que hay 4 estados en los cuales no hay vendedores, los localizo:"
   ]
  },
  {
   "cell_type": "code",
   "execution_count": 32,
   "metadata": {},
   "outputs": [
    {
     "name": "stdout",
     "output_type": "stream",
     "text": [
      "No hay vendedores en las Unidades Federativas: ['Alagoas', 'Amapá', 'Roraima', 'Tocantins']\n"
     ]
    }
   ],
   "source": [
    "# Web scrapping\n",
    "estados = pd.read_html('https://es.wikipedia.org/wiki/Unidad_federativa_de_Brasil#Lista_de_unidades_federativas_brasile%C3%B1as')\n",
    "\n",
    "# Creo y limpio dataframe\n",
    "estados = estados[0]\n",
    "estados = estados[['Unidad federativa', 'Código ISO', 'Capital', 'Densidad(2021)']]\n",
    "estados['Código ISO'] = estados['Código ISO'].str.replace('BR-','')\n",
    "\n",
    "# Comparo con mis datos\n",
    "lst = []\n",
    "for i in range(len(estados['Código ISO'])):\n",
    "    if not(estados['Código ISO'][i] in sellers.seller_state.unique()):\n",
    "        lst.append(estados['Unidad federativa'][i])\n",
    "print('No hay vendedores en las Unidades Federativas:', lst)"
   ]
  },
  {
   "cell_type": "code",
   "execution_count": 61,
   "metadata": {},
   "outputs": [
    {
     "data": {
      "text/plain": [
       "Text(0, 0.5, 'Vendedores')"
      ]
     },
     "execution_count": 61,
     "metadata": {},
     "output_type": "execute_result"
    },
    {
     "data": {
      "image/png": "[encoded data removed]",
      "text/plain": [
       "<Figure size 720x216 with 1 Axes>"
      ]
     },
     "metadata": {
      "needs_background": "light"
     },
     "output_type": "display_data"
    }
   ],
   "source": [
    "vendedores_por_federacion = sellers.groupby(['seller_state'])['seller_city'].agg('count').reset_index()\n",
    "vendedores_por_federacion.rename(columns={'seller_city':'cant_vendedores'}, inplace=True)\n",
    "\n",
    "# Grafico la cantidad de vendedores por federacion\n",
    "plt.figure(figsize=(10,3))\n",
    "plt.title('Vendedores por federación')\n",
    "plt.bar(vendedores_por_federacion['seller_state'], vendedores_por_federacion['cant_vendedores'])\n",
    "plt.xlabel('Federación')\n",
    "plt.ylabel('Vendedores')"
   ]
  },
  {
   "attachments": {},
   "cell_type": "markdown",
   "metadata": {},
   "source": [
    "Se pueden apreciar que los vendedores se ubican principalmente en Sao Paulo, y luego se distribuyen entre otras 5 federaciones"
   ]
  },
  {
   "cell_type": "code",
   "execution_count": 12,
   "metadata": {},
   "outputs": [
    {
     "data": {
      "text/plain": [
       "array([13023, 13844, 20031, ...,  4650, 96080, 12051], dtype=int64)"
      ]
     },
     "execution_count": 12,
     "metadata": {},
     "output_type": "execute_result"
    }
   ],
   "source": [
    "sellers.seller_zip_code_prefix.unique()"
   ]
  },
  {
   "attachments": {},
   "cell_type": "markdown",
   "metadata": {},
   "source": [
    "Todo limpio."
   ]
  }
 ],
 "metadata": {
  "kernelspec": {
   "display_name": "Python 3",
   "language": "python",
   "name": "python3"
  },
  "language_info": {
   "codemirror_mode": {
    "name": "ipython",
    "version": 3
   },
   "file_extension": ".py",
   "mimetype": "text/x-python",
   "name": "python",
   "nbconvert_exporter": "python",
   "pygments_lexer": "ipython3",
   "version": "3.10.8 (tags/v3.10.8:aaaf517, Oct 11 2022, 16:50:30) [MSC v.1933 64 bit (AMD64)]"
  },
  "orig_nbformat": 4,
  "vscode": {
   "interpreter": {
    "hash": "55a808d16bf328e86a0bb0594659d349c68917da1cea92407dc92d39412f9ec9"
   }
  }
 },
 "nbformat": 4,
 "nbformat_minor": 2
}
