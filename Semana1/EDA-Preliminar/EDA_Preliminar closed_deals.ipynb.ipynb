{
 "cells": [
  {
   "attachments": {},
   "cell_type": "markdown",
   "metadata": {},
   "source": [
    "Extracción"
   ]
  },
  {
   "cell_type": "code",
   "execution_count": 41,
   "metadata": {},
   "outputs": [],
   "source": [
    "import pandas as pd\n",
    "import numpy as np"
   ]
  },
  {
   "cell_type": "code",
   "execution_count": 42,
   "metadata": {},
   "outputs": [],
   "source": [
    "df_acuerdos = pd.read_csv(\"./Datasets/olist_closed_deals_dataset.csv\",delimiter = ',',encoding = \"utf-8\")"
   ]
  },
  {
   "cell_type": "code",
   "execution_count": 43,
   "metadata": {},
   "outputs": [
    {
     "data": {
      "text/html": [
       "<div>\n",
       "<style scoped>\n",
       "    .dataframe tbody tr th:only-of-type {\n",
       "        vertical-align: middle;\n",
       "    }\n",
       "\n",
       "    .dataframe tbody tr th {\n",
       "        vertical-align: top;\n",
       "    }\n",
       "\n",
       "    .dataframe thead th {\n",
       "        text-align: right;\n",
       "    }\n",
       "</style>\n",
       "<table border=\"1\" class=\"dataframe\">\n",
       "  <thead>\n",
       "    <tr style=\"text-align: right;\">\n",
       "      <th></th>\n",
       "      <th>mql_id</th>\n",
       "      <th>seller_id</th>\n",
       "      <th>sdr_id</th>\n",
       "      <th>sr_id</th>\n",
       "      <th>won_date</th>\n",
       "      <th>business_segment</th>\n",
       "      <th>lead_type</th>\n",
       "      <th>lead_behaviour_profile</th>\n",
       "      <th>has_company</th>\n",
       "      <th>has_gtin</th>\n",
       "      <th>average_stock</th>\n",
       "      <th>business_type</th>\n",
       "      <th>declared_product_catalog_size</th>\n",
       "      <th>declared_monthly_revenue</th>\n",
       "    </tr>\n",
       "  </thead>\n",
       "  <tbody>\n",
       "    <tr>\n",
       "      <th>821</th>\n",
       "      <td>9e7c75dad869b2691a339a70cf105f0e</td>\n",
       "      <td>f4d969837a2957bb052a71af7d39fc91</td>\n",
       "      <td>56bf83c4bb35763a51c2baab501b4c67</td>\n",
       "      <td>9ae085775a198122c5586fa830ff7f2b</td>\n",
       "      <td>2018-03-26 14:03:55</td>\n",
       "      <td>bed_bath_table</td>\n",
       "      <td>online_beginner</td>\n",
       "      <td>cat</td>\n",
       "      <td>NaN</td>\n",
       "      <td>NaN</td>\n",
       "      <td>NaN</td>\n",
       "      <td>reseller</td>\n",
       "      <td>NaN</td>\n",
       "      <td>0.0</td>\n",
       "    </tr>\n",
       "    <tr>\n",
       "      <th>324</th>\n",
       "      <td>fc723a87e241c9b3c2e5fd4df4ff8e9d</td>\n",
       "      <td>9803a40e82e45418ab7fb84091af5231</td>\n",
       "      <td>4b339f9567d060bcea4f5136b9f5949e</td>\n",
       "      <td>c638112b43f1d1b86dcabb0da720c901</td>\n",
       "      <td>2018-03-09 14:18:20</td>\n",
       "      <td>audio_video_electronics</td>\n",
       "      <td>online_big</td>\n",
       "      <td>cat</td>\n",
       "      <td>NaN</td>\n",
       "      <td>NaN</td>\n",
       "      <td>NaN</td>\n",
       "      <td>reseller</td>\n",
       "      <td>NaN</td>\n",
       "      <td>0.0</td>\n",
       "    </tr>\n",
       "    <tr>\n",
       "      <th>92</th>\n",
       "      <td>5931bbfb35cc483290f5dd6a9fda8ee5</td>\n",
       "      <td>0db0dce302e414422ed38aabd133ae04</td>\n",
       "      <td>4b339f9567d060bcea4f5136b9f5949e</td>\n",
       "      <td>2695de1affa7750089c0455f8ce27021</td>\n",
       "      <td>2018-06-18 12:46:31</td>\n",
       "      <td>food_supplement</td>\n",
       "      <td>industry</td>\n",
       "      <td>wolf</td>\n",
       "      <td>NaN</td>\n",
       "      <td>NaN</td>\n",
       "      <td>NaN</td>\n",
       "      <td>manufacturer</td>\n",
       "      <td>NaN</td>\n",
       "      <td>0.0</td>\n",
       "    </tr>\n",
       "    <tr>\n",
       "      <th>597</th>\n",
       "      <td>33bedbbf5f4322acc36ecf15bd34cc57</td>\n",
       "      <td>0ffe89723de9b21041556d02e9b21a8b</td>\n",
       "      <td>de63de0d10a6012430098db33c679b0b</td>\n",
       "      <td>d3d1e91a157ea7f90548eef82f1955e3</td>\n",
       "      <td>2018-01-25 15:03:55</td>\n",
       "      <td>home_decor</td>\n",
       "      <td>online_medium</td>\n",
       "      <td>NaN</td>\n",
       "      <td>NaN</td>\n",
       "      <td>NaN</td>\n",
       "      <td>NaN</td>\n",
       "      <td>reseller</td>\n",
       "      <td>NaN</td>\n",
       "      <td>0.0</td>\n",
       "    </tr>\n",
       "    <tr>\n",
       "      <th>338</th>\n",
       "      <td>cdca41db5ada4bf3e8e608a495066165</td>\n",
       "      <td>bf28429c4b2c63d4a66f2a1ef89e7cfa</td>\n",
       "      <td>fdb16d3cbbeb5798f2f66c4096be026d</td>\n",
       "      <td>d3d1e91a157ea7f90548eef82f1955e3</td>\n",
       "      <td>2018-02-16 20:09:12</td>\n",
       "      <td>computers</td>\n",
       "      <td>online_medium</td>\n",
       "      <td>cat</td>\n",
       "      <td>NaN</td>\n",
       "      <td>NaN</td>\n",
       "      <td>NaN</td>\n",
       "      <td>reseller</td>\n",
       "      <td>NaN</td>\n",
       "      <td>0.0</td>\n",
       "    </tr>\n",
       "  </tbody>\n",
       "</table>\n",
       "</div>"
      ],
      "text/plain": [
       "                               mql_id                         seller_id  \\\n",
       "821  9e7c75dad869b2691a339a70cf105f0e  f4d969837a2957bb052a71af7d39fc91   \n",
       "324  fc723a87e241c9b3c2e5fd4df4ff8e9d  9803a40e82e45418ab7fb84091af5231   \n",
       "92   5931bbfb35cc483290f5dd6a9fda8ee5  0db0dce302e414422ed38aabd133ae04   \n",
       "597  33bedbbf5f4322acc36ecf15bd34cc57  0ffe89723de9b21041556d02e9b21a8b   \n",
       "338  cdca41db5ada4bf3e8e608a495066165  bf28429c4b2c63d4a66f2a1ef89e7cfa   \n",
       "\n",
       "                               sdr_id                             sr_id  \\\n",
       "821  56bf83c4bb35763a51c2baab501b4c67  9ae085775a198122c5586fa830ff7f2b   \n",
       "324  4b339f9567d060bcea4f5136b9f5949e  c638112b43f1d1b86dcabb0da720c901   \n",
       "92   4b339f9567d060bcea4f5136b9f5949e  2695de1affa7750089c0455f8ce27021   \n",
       "597  de63de0d10a6012430098db33c679b0b  d3d1e91a157ea7f90548eef82f1955e3   \n",
       "338  fdb16d3cbbeb5798f2f66c4096be026d  d3d1e91a157ea7f90548eef82f1955e3   \n",
       "\n",
       "                won_date         business_segment        lead_type  \\\n",
       "821  2018-03-26 14:03:55           bed_bath_table  online_beginner   \n",
       "324  2018-03-09 14:18:20  audio_video_electronics       online_big   \n",
       "92   2018-06-18 12:46:31          food_supplement         industry   \n",
       "597  2018-01-25 15:03:55               home_decor    online_medium   \n",
       "338  2018-02-16 20:09:12                computers    online_medium   \n",
       "\n",
       "    lead_behaviour_profile has_company has_gtin average_stock business_type  \\\n",
       "821                    cat         NaN      NaN           NaN      reseller   \n",
       "324                    cat         NaN      NaN           NaN      reseller   \n",
       "92                    wolf         NaN      NaN           NaN  manufacturer   \n",
       "597                    NaN         NaN      NaN           NaN      reseller   \n",
       "338                    cat         NaN      NaN           NaN      reseller   \n",
       "\n",
       "     declared_product_catalog_size  declared_monthly_revenue  \n",
       "821                            NaN                       0.0  \n",
       "324                            NaN                       0.0  \n",
       "92                             NaN                       0.0  \n",
       "597                            NaN                       0.0  \n",
       "338                            NaN                       0.0  "
      ]
     },
     "execution_count": 43,
     "metadata": {},
     "output_type": "execute_result"
    }
   ],
   "source": [
    "df_acuerdos.sample(5)"
   ]
  },
  {
   "attachments": {},
   "cell_type": "markdown",
   "metadata": {},
   "source": [
    "Este dataset muestra info de la siguiente situacion: un cliente potencial calificado completa un formulario, luego un representante de desarrollo de ventas se comunica con él. En este paso, se verifica cierta información y se recopila más información sobre el cliente potencial."
   ]
  },
  {
   "attachments": {},
   "cell_type": "markdown",
   "metadata": {},
   "source": [
    "- mql_id = entiendo que significa \"marketing qualified lead\" (prospecto calificado por marketing). Son un futuro cliente potencial, pero todavía no están allí. Se determina el MQL a partir de las visitas al sitio web, las descargas de formularios y otros objetivos.\n",
    "\n",
    "- seller_id = id del vendedor\n",
    "\n",
    "- sdr_id = \"Sales Development Representative\". Significa Representante de Desarrollo de Ventas. Se enfoca más en los clientes potenciales entrantes , es decir, las personas que llegaron a su sitio web, miraron una oferta suya, descargaron algo, etc\n",
    "\n",
    "- sr_id = id de representante de ventas\n",
    "\n",
    "- won_date = fecha de cierre del acuerdo\n",
    "\n",
    "- business_segment = segmento de negocio\n",
    "\n",
    "- lead_type = tipo de iniciativa de la relacion\n",
    "\n",
    "- lead_behaviour_profile = perfil de comportamiento de iniciativa\n",
    "\n",
    "- has_company = si tiene la documentacion formal de la empresa\n",
    "\n",
    "- has_gtin = podria eliminarse (si el cliente tiene un codigo de barras unico para sus productos)\n",
    "\n",
    "- average_stock = promedio de inventario\n",
    "\n",
    "- business_type = tipo de negocio\n",
    "\n",
    "- declared_product_catalog_size\t= tamaño de productos del catalogo declarado\n",
    "\n",
    "- declared_monthly_revenue = ingresos mensuales declarados"
   ]
  },
  {
   "cell_type": "code",
   "execution_count": 44,
   "metadata": {},
   "outputs": [
    {
     "name": "stdout",
     "output_type": "stream",
     "text": [
      "<class 'pandas.core.frame.DataFrame'>\n",
      "RangeIndex: 842 entries, 0 to 841\n",
      "Data columns (total 14 columns):\n",
      " #   Column                         Non-Null Count  Dtype  \n",
      "---  ------                         --------------  -----  \n",
      " 0   mql_id                         842 non-null    object \n",
      " 1   seller_id                      842 non-null    object \n",
      " 2   sdr_id                         842 non-null    object \n",
      " 3   sr_id                          842 non-null    object \n",
      " 4   won_date                       842 non-null    object \n",
      " 5   business_segment               841 non-null    object \n",
      " 6   lead_type                      836 non-null    object \n",
      " 7   lead_behaviour_profile         665 non-null    object \n",
      " 8   has_company                    63 non-null     object \n",
      " 9   has_gtin                       64 non-null     object \n",
      " 10  average_stock                  66 non-null     object \n",
      " 11  business_type                  832 non-null    object \n",
      " 12  declared_product_catalog_size  69 non-null     float64\n",
      " 13  declared_monthly_revenue       842 non-null    float64\n",
      "dtypes: float64(2), object(12)\n",
      "memory usage: 92.2+ KB\n"
     ]
    }
   ],
   "source": [
    "# Tipo de datos de cada columna \n",
    "df_acuerdos.info()"
   ]
  },
  {
   "cell_type": "code",
   "execution_count": 45,
   "metadata": {},
   "outputs": [
    {
     "data": {
      "text/plain": [
       "mql_id                             0\n",
       "seller_id                          0\n",
       "sdr_id                             0\n",
       "sr_id                              0\n",
       "won_date                           0\n",
       "business_segment                   1\n",
       "lead_type                          6\n",
       "lead_behaviour_profile           177\n",
       "has_company                      779\n",
       "has_gtin                         778\n",
       "average_stock                    776\n",
       "business_type                     10\n",
       "declared_product_catalog_size    773\n",
       "declared_monthly_revenue           0\n",
       "dtype: int64"
      ]
     },
     "execution_count": 45,
     "metadata": {},
     "output_type": "execute_result"
    }
   ],
   "source": [
    "# Verificamos cantidad de nulos por columna (atencion a las columnas que tienen muchos valores nulos) \n",
    "\n",
    "df_acuerdos.isnull().sum()"
   ]
  },
  {
   "attachments": {},
   "cell_type": "markdown",
   "metadata": {},
   "source": [
    "- Observación: alta cantidad de valores nulos (o cero) en algunas columnas."
   ]
  },
  {
   "cell_type": "code",
   "execution_count": 46,
   "metadata": {},
   "outputs": [
    {
     "data": {
      "text/plain": [
       "\"Existen 33 tipos de segmentacion de negocio y son los siguientes: ['pet' 'car_accessories' 'home_appliances' 'food_drink' 'health_beauty'\\n 'computers' 'household_utilities' 'construction_tools_house_garden'\\n 'toys' 'sports_leisure' 'stationery' 'food_supplement' 'home_decor'\\n 'bed_bath_table' 'watches' 'fashion_accessories' 'jewerly' 'party'\\n 'small_appliances' 'audio_video_electronics' 'other' 'bags_backpacks'\\n 'home_office_furniture' 'music_instruments' 'books' 'baby'\\n 'air_conditioning' 'phone_mobile' nan 'handcrafted' 'perfume' 'gifts'\\n 'religious' 'games_consoles']\""
      ]
     },
     "execution_count": 46,
     "metadata": {},
     "output_type": "execute_result"
    }
   ],
   "source": [
    "# Verificamos valores unicos de segmentacion de negocio\n",
    "\n",
    "f'Existen {df_acuerdos[\"business_segment\"].value_counts().count()} tipos de segmentacion de negocio y son los siguientes: {df_acuerdos[\"business_segment\"].unique()}'"
   ]
  },
  {
   "cell_type": "code",
   "execution_count": 47,
   "metadata": {},
   "outputs": [
    {
     "data": {
      "text/plain": [
       "\"Existen 8 tipos de iniciativas y son las siguientes: ['online_medium' 'industry' 'online_big' 'online_small' 'offline'\\n 'online_top' 'online_beginner' 'other' nan]\""
      ]
     },
     "execution_count": 47,
     "metadata": {},
     "output_type": "execute_result"
    }
   ],
   "source": [
    "# Verificamos valores unicos de tipos de iniciativas\n",
    "\n",
    "f'Existen {df_acuerdos[\"lead_type\"].value_counts().count()} tipos de iniciativas y son las siguientes: {df_acuerdos[\"lead_type\"].unique()}'"
   ]
  },
  {
   "cell_type": "code",
   "execution_count": 48,
   "metadata": {},
   "outputs": [
    {
     "data": {
      "text/plain": [
       "\"Existen 9 perfiles de comportamiento y son los siguientes: ['cat' 'eagle' nan 'wolf' 'shark' 'cat, wolf' 'eagle, wolf' 'shark, cat'\\n 'eagle, cat' 'shark, wolf']\""
      ]
     },
     "execution_count": 48,
     "metadata": {},
     "output_type": "execute_result"
    }
   ],
   "source": [
    "# Verificamos valores unicos de perfiles de comportamiento\n",
    "\n",
    "f'Existen {df_acuerdos[\"lead_behaviour_profile\"].value_counts().count()} perfiles de comportamiento y son los siguientes: {df_acuerdos[\"lead_behaviour_profile\"].unique()}'"
   ]
  },
  {
   "attachments": {},
   "cell_type": "markdown",
   "metadata": {},
   "source": [
    "KPIs:\n",
    "\n",
    "- Analizar patrones entre clientes potenciales para lograr atraer nuevos.\n",
    "- Analizar segmentos de negocio que menos se repiten y definir como atraer mas clientes potenciales de los mismos.\n",
    "- Analizar tipos de iniciativas que menos se repiten y mejorar las mismas.\n",
    "- Analizar perfiles de comportamiento que más se repiten y brindar mas beneficios a quienes pertenezcan a los mismos."
   ]
  }
 ],
 "metadata": {
  "kernelspec": {
   "display_name": "Python 3",
   "language": "python",
   "name": "python3"
  },
  "language_info": {
   "codemirror_mode": {
    "name": "ipython",
    "version": 3
   },
   "file_extension": ".py",
   "mimetype": "text/x-python",
   "name": "python",
   "nbconvert_exporter": "python",
   "pygments_lexer": "ipython3",
   "version": "3.10.7 (tags/v3.10.7:6cc6b13, Sep  5 2022, 14:08:36) [MSC v.1933 64 bit (AMD64)]"
  },
  "orig_nbformat": 4,
  "vscode": {
   "interpreter": {
    "hash": "c259d08bc2cb2f5e0792d6b908d68d0a519f1348398ed9bbfffb6d4d4eafb58d"
   }
  }
 },
 "nbformat": 4,
 "nbformat_minor": 2
}
