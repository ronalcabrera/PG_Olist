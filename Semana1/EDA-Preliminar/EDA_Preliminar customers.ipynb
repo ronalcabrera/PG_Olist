{
 "cells": [
  {
   "attachments": {},
   "cell_type": "markdown",
   "metadata": {},
   "source": [
    "## Librerias"
   ]
  },
  {
   "cell_type": "code",
   "execution_count": 1,
   "metadata": {},
   "outputs": [],
   "source": [
    "import pandas as pd\n",
    "import numpy as np\n",
    "import matplotlib.pyplot as plt"
   ]
  },
  {
   "cell_type": "markdown",
   "metadata": {},
   "source": [
    "## EDA"
   ]
  },
  {
   "cell_type": "code",
   "execution_count": 2,
   "metadata": {},
   "outputs": [],
   "source": [
    "url = 'https://raw.githubusercontent.com/ronalcabrera/PG_Olist/main/Datasets/olist_customers_dataset.csv'\n",
    "customers = pd.read_csv(url, delimiter=',', encoding='UTF-8')"
   ]
  },
  {
   "cell_type": "code",
   "execution_count": 3,
   "metadata": {},
   "outputs": [],
   "source": [
    "# Web scrapping\n",
    "estados = pd.read_html('https://es.wikipedia.org/wiki/Unidad_federativa_de_Brasil#Lista_de_unidades_federativas_brasile%C3%B1as')\n",
    "\n",
    "# Creo y limpio dataframe\n",
    "estados = estados[0]\n",
    "estados = estados[['Unidad federativa', 'Código ISO', 'Capital', 'Densidad(2021)']]\n",
    "estados['Código ISO'] = estados['Código ISO'].str.replace('BR-','')"
   ]
  },
  {
   "attachments": {},
   "cell_type": "markdown",
   "metadata": {},
   "source": [
    "Verifico la integridad de los datos en customers"
   ]
  },
  {
   "cell_type": "code",
   "execution_count": 4,
   "metadata": {},
   "outputs": [
    {
     "name": "stdout",
     "output_type": "stream",
     "text": [
      "<class 'pandas.core.frame.DataFrame'>\n",
      "RangeIndex: 99441 entries, 0 to 99440\n",
      "Data columns (total 5 columns):\n",
      " #   Column                    Non-Null Count  Dtype \n",
      "---  ------                    --------------  ----- \n",
      " 0   customer_id               99441 non-null  object\n",
      " 1   customer_unique_id        99441 non-null  object\n",
      " 2   customer_zip_code_prefix  99441 non-null  int64 \n",
      " 3   customer_city             99441 non-null  object\n",
      " 4   customer_state            99441 non-null  object\n",
      "dtypes: int64(1), object(4)\n",
      "memory usage: 3.8+ MB\n"
     ]
    }
   ],
   "source": [
    "customers.info()"
   ]
  },
  {
   "attachments": {},
   "cell_type": "markdown",
   "metadata": {},
   "source": [
    "Sin nulos"
   ]
  },
  {
   "cell_type": "code",
   "execution_count": 5,
   "metadata": {},
   "outputs": [
    {
     "name": "stdout",
     "output_type": "stream",
     "text": [
      "No hay clientes en las Unidades Federativas: []\n"
     ]
    }
   ],
   "source": [
    "lst = []\n",
    "for i in range(len(estados['Código ISO'])):\n",
    "    if not(estados['Código ISO'][i] in customers.customer_state.unique()):\n",
    "        lst.append(estados['Unidad federativa'][i])\n",
    "print('No hay clientes en las Unidades Federativas:', lst)"
   ]
  },
  {
   "attachments": {},
   "cell_type": "markdown",
   "metadata": {},
   "source": [
    "Genial, hay clientes en de todas partes de brasil."
   ]
  },
  {
   "cell_type": "code",
   "execution_count": 6,
   "metadata": {},
   "outputs": [
    {
     "name": "stdout",
     "output_type": "stream",
     "text": [
      "En Brasil hay 5570 ciudades en total, de las cuales se registran compradores en 4119 , lo que significa que resta un 26.05 % de ciudades donde captar clientes\n"
     ]
    }
   ],
   "source": [
    "print('En Brasil hay 5570 ciudades en total, de las cuales se registran compradores en',len(customers.customer_city.unique())\n",
    ", ', lo que significa que resta un', round((1-len(customers.customer_city.unique())/5570)*100,2), '% de ciudades donde captar clientes')"
   ]
  },
  {
   "cell_type": "code",
   "execution_count": 7,
   "metadata": {},
   "outputs": [
    {
     "data": {
      "text/plain": [
       "Text(0, 0.5, 'Clientes')"
      ]
     },
     "execution_count": 7,
     "metadata": {},
     "output_type": "execute_result"
    },
    {
     "data": {
      "image/png": "[encoded data removed]",
      "text/plain": [
       "<Figure size 720x216 with 1 Axes>"
      ]
     },
     "metadata": {
      "needs_background": "light"
     },
     "output_type": "display_data"
    }
   ],
   "source": [
    "clientes_por_federacion = customers.groupby(['customer_state'])['customer_city'].agg('count').reset_index()\n",
    "clientes_por_federacion.rename(columns={'customer_city':'cant_clientes'}, inplace=True)\n",
    "\n",
    "# Grafico la cantidad de vendedores por federacion\n",
    "plt.figure(figsize=(10,3))\n",
    "plt.title('Clientes por federación')\n",
    "plt.bar(clientes_por_federacion['customer_state'], clientes_por_federacion['cant_clientes'])\n",
    "plt.xlabel('Federación')\n",
    "plt.ylabel('Clientes')"
   ]
  },
  {
   "attachments": {},
   "cell_type": "markdown",
   "metadata": {},
   "source": [
    "Se puede apreciar que nuevamente la mayor parte de los clientes se encuentran en Sao Paulo, luego se distribuyen entre 5-6 federaciones mas la mayor concentracion de ellos."
   ]
  }
 ],
 "metadata": {
  "kernelspec": {
   "display_name": "Python 3",
   "language": "python",
   "name": "python3"
  },
  "language_info": {
   "codemirror_mode": {
    "name": "ipython",
    "version": 3
   },
   "file_extension": ".py",
   "mimetype": "text/x-python",
   "name": "python",
   "nbconvert_exporter": "python",
   "pygments_lexer": "ipython3",
   "version": "3.10.8 (tags/v3.10.8:aaaf517, Oct 11 2022, 16:50:30) [MSC v.1933 64 bit (AMD64)]"
  },
  "orig_nbformat": 4,
  "vscode": {
   "interpreter": {
    "hash": "55a808d16bf328e86a0bb0594659d349c68917da1cea92407dc92d39412f9ec9"
   }
  }
 },
 "nbformat": 4,
 "nbformat_minor": 2
}
