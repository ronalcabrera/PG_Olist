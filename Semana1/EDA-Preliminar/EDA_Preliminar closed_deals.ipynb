{
 "cells": [
  {
   "attachments": {},
   "cell_type": "markdown",
   "metadata": {},
   "source": [
    "Extracción"
   ]
  },
  {
   "cell_type": "code",
   "execution_count": 1,
   "metadata": {},
   "outputs": [],
   "source": [
    "import pandas as pd\n",
    "import numpy as np"
   ]
  },
  {
   "cell_type": "code",
   "execution_count": 2,
   "metadata": {},
   "outputs": [],
   "source": [
    "url = 'https://raw.githubusercontent.com/ronalcabrera/PG_Olist/main/Datasets/olist_closed_deals_dataset.csv'\n",
    "\n",
    "df_acuerdos = pd.read_csv(url, delimiter=',', encoding='UTF-8')"
   ]
  },
  {
   "cell_type": "code",
   "execution_count": 3,
   "metadata": {},
   "outputs": [
    {
     "data": {
      "text/html": [
       "<div>\n",
       "<style scoped>\n",
       "    .dataframe tbody tr th:only-of-type {\n",
       "        vertical-align: middle;\n",
       "    }\n",
       "\n",
       "    .dataframe tbody tr th {\n",
       "        vertical-align: top;\n",
       "    }\n",
       "\n",
       "    .dataframe thead th {\n",
       "        text-align: right;\n",
       "    }\n",
       "</style>\n",
       "<table border=\"1\" class=\"dataframe\">\n",
       "  <thead>\n",
       "    <tr style=\"text-align: right;\">\n",
       "      <th></th>\n",
       "      <th>mql_id</th>\n",
       "      <th>seller_id</th>\n",
       "      <th>sdr_id</th>\n",
       "      <th>sr_id</th>\n",
       "      <th>won_date</th>\n",
       "      <th>business_segment</th>\n",
       "      <th>lead_type</th>\n",
       "      <th>lead_behaviour_profile</th>\n",
       "      <th>has_company</th>\n",
       "      <th>has_gtin</th>\n",
       "      <th>average_stock</th>\n",
       "      <th>business_type</th>\n",
       "      <th>declared_product_catalog_size</th>\n",
       "      <th>declared_monthly_revenue</th>\n",
       "    </tr>\n",
       "  </thead>\n",
       "  <tbody>\n",
       "    <tr>\n",
       "      <th>164</th>\n",
       "      <td>f49a02e0f135ae9f2bcf60f55bcd0174</td>\n",
       "      <td>f212a20c700f5a7c3d4de5ef38e02c42</td>\n",
       "      <td>370c9f455f93a9a96cbe9bea48e70033</td>\n",
       "      <td>d3d1e91a157ea7f90548eef82f1955e3</td>\n",
       "      <td>2018-08-10 13:01:03</td>\n",
       "      <td>audio_video_electronics</td>\n",
       "      <td>online_medium</td>\n",
       "      <td>cat</td>\n",
       "      <td>True</td>\n",
       "      <td>True</td>\n",
       "      <td>50-200</td>\n",
       "      <td>reseller</td>\n",
       "      <td>NaN</td>\n",
       "      <td>0.0</td>\n",
       "    </tr>\n",
       "    <tr>\n",
       "      <th>167</th>\n",
       "      <td>6c465ed53d17739467c95fe414d8e056</td>\n",
       "      <td>3289d8c3eef4873f91ce0b1343c0dd58</td>\n",
       "      <td>a8387c01a09e99ce014107505b92388c</td>\n",
       "      <td>4ef15afb4b2723d8f3d81e51ec7afefe</td>\n",
       "      <td>2018-04-26 20:04:29</td>\n",
       "      <td>sports_leisure</td>\n",
       "      <td>online_small</td>\n",
       "      <td>cat</td>\n",
       "      <td>NaN</td>\n",
       "      <td>NaN</td>\n",
       "      <td>NaN</td>\n",
       "      <td>manufacturer</td>\n",
       "      <td>NaN</td>\n",
       "      <td>0.0</td>\n",
       "    </tr>\n",
       "    <tr>\n",
       "      <th>349</th>\n",
       "      <td>37e3398f030e206491f4a61b69d39faa</td>\n",
       "      <td>cb9942fc1981289d7e809573bc69c7db</td>\n",
       "      <td>6b13bcea409754a002210eb96b8aad4a</td>\n",
       "      <td>6565aa9ce3178a5caf6171827af3a9ba</td>\n",
       "      <td>2018-01-22 13:22:05</td>\n",
       "      <td>books</td>\n",
       "      <td>online_small</td>\n",
       "      <td>NaN</td>\n",
       "      <td>NaN</td>\n",
       "      <td>NaN</td>\n",
       "      <td>NaN</td>\n",
       "      <td>manufacturer</td>\n",
       "      <td>NaN</td>\n",
       "      <td>0.0</td>\n",
       "    </tr>\n",
       "    <tr>\n",
       "      <th>247</th>\n",
       "      <td>5bee2861956d76fe35e91c33bc4a81b3</td>\n",
       "      <td>dda37071807e404c5bb2a1590c66326f</td>\n",
       "      <td>4b339f9567d060bcea4f5136b9f5949e</td>\n",
       "      <td>4ef15afb4b2723d8f3d81e51ec7afefe</td>\n",
       "      <td>2018-03-26 20:08:26</td>\n",
       "      <td>bags_backpacks</td>\n",
       "      <td>online_small</td>\n",
       "      <td>eagle</td>\n",
       "      <td>NaN</td>\n",
       "      <td>NaN</td>\n",
       "      <td>NaN</td>\n",
       "      <td>manufacturer</td>\n",
       "      <td>NaN</td>\n",
       "      <td>0.0</td>\n",
       "    </tr>\n",
       "    <tr>\n",
       "      <th>58</th>\n",
       "      <td>415ae4e297c08fd8790a5b1e1ba8482e</td>\n",
       "      <td>08d1c9478fb0d7d7fcac9c0da4e82fc7</td>\n",
       "      <td>4b339f9567d060bcea4f5136b9f5949e</td>\n",
       "      <td>de63de0d10a6012430098db33c679b0b</td>\n",
       "      <td>2018-04-27 13:35:00</td>\n",
       "      <td>home_decor</td>\n",
       "      <td>online_medium</td>\n",
       "      <td>wolf</td>\n",
       "      <td>NaN</td>\n",
       "      <td>NaN</td>\n",
       "      <td>NaN</td>\n",
       "      <td>manufacturer</td>\n",
       "      <td>NaN</td>\n",
       "      <td>0.0</td>\n",
       "    </tr>\n",
       "  </tbody>\n",
       "</table>\n",
       "</div>"
      ],
      "text/plain": [
       "                               mql_id                         seller_id  \\\n",
       "164  f49a02e0f135ae9f2bcf60f55bcd0174  f212a20c700f5a7c3d4de5ef38e02c42   \n",
       "167  6c465ed53d17739467c95fe414d8e056  3289d8c3eef4873f91ce0b1343c0dd58   \n",
       "349  37e3398f030e206491f4a61b69d39faa  cb9942fc1981289d7e809573bc69c7db   \n",
       "247  5bee2861956d76fe35e91c33bc4a81b3  dda37071807e404c5bb2a1590c66326f   \n",
       "58   415ae4e297c08fd8790a5b1e1ba8482e  08d1c9478fb0d7d7fcac9c0da4e82fc7   \n",
       "\n",
       "                               sdr_id                             sr_id  \\\n",
       "164  370c9f455f93a9a96cbe9bea48e70033  d3d1e91a157ea7f90548eef82f1955e3   \n",
       "167  a8387c01a09e99ce014107505b92388c  4ef15afb4b2723d8f3d81e51ec7afefe   \n",
       "349  6b13bcea409754a002210eb96b8aad4a  6565aa9ce3178a5caf6171827af3a9ba   \n",
       "247  4b339f9567d060bcea4f5136b9f5949e  4ef15afb4b2723d8f3d81e51ec7afefe   \n",
       "58   4b339f9567d060bcea4f5136b9f5949e  de63de0d10a6012430098db33c679b0b   \n",
       "\n",
       "                won_date         business_segment      lead_type  \\\n",
       "164  2018-08-10 13:01:03  audio_video_electronics  online_medium   \n",
       "167  2018-04-26 20:04:29           sports_leisure   online_small   \n",
       "349  2018-01-22 13:22:05                    books   online_small   \n",
       "247  2018-03-26 20:08:26           bags_backpacks   online_small   \n",
       "58   2018-04-27 13:35:00               home_decor  online_medium   \n",
       "\n",
       "    lead_behaviour_profile has_company has_gtin average_stock business_type  \\\n",
       "164                    cat        True     True        50-200      reseller   \n",
       "167                    cat         NaN      NaN           NaN  manufacturer   \n",
       "349                    NaN         NaN      NaN           NaN  manufacturer   \n",
       "247                  eagle         NaN      NaN           NaN  manufacturer   \n",
       "58                    wolf         NaN      NaN           NaN  manufacturer   \n",
       "\n",
       "     declared_product_catalog_size  declared_monthly_revenue  \n",
       "164                            NaN                       0.0  \n",
       "167                            NaN                       0.0  \n",
       "349                            NaN                       0.0  \n",
       "247                            NaN                       0.0  \n",
       "58                             NaN                       0.0  "
      ]
     },
     "execution_count": 3,
     "metadata": {},
     "output_type": "execute_result"
    }
   ],
   "source": [
    "df_acuerdos.sample(5)"
   ]
  },
  {
   "attachments": {},
   "cell_type": "markdown",
   "metadata": {},
   "source": [
    "Este dataset muestra info de la siguiente situacion: un cliente potencial calificado completa un formulario, luego un representante de desarrollo de ventas se comunica con él. En este paso, se verifica cierta información y se recopila más información sobre el cliente potencial."
   ]
  },
  {
   "attachments": {},
   "cell_type": "markdown",
   "metadata": {},
   "source": [
    "- mql_id = entiendo que significa \"marketing qualified lead\" (prospecto calificado por marketing). Son un futuro cliente potencial, pero todavía no están allí. Se determina el MQL a partir de las visitas al sitio web, las descargas de formularios y otros objetivos.\n",
    "\n",
    "- seller_id = id del vendedor\n",
    "\n",
    "- sdr_id = \"Sales Development Representative\". Significa Representante de Desarrollo de Ventas. Se enfoca más en los clientes potenciales entrantes , es decir, las personas que llegaron a su sitio web, miraron una oferta suya, descargaron algo, etc\n",
    "\n",
    "- sr_id = id de representante de ventas\n",
    "\n",
    "- won_date = fecha de cierre del acuerdo\n",
    "\n",
    "- business_segment = segmento de negocio\n",
    "\n",
    "- lead_type = tipo de iniciativa de la relacion\n",
    "\n",
    "- lead_behaviour_profile = perfil de comportamiento de iniciativa\n",
    "\n",
    "- has_company = si tiene la documentacion formal de la empresa\n",
    "\n",
    "- has_gtin = podria eliminarse (si el cliente tiene un codigo de barras unico para sus productos)\n",
    "\n",
    "- average_stock = promedio de inventario\n",
    "\n",
    "- business_type = tipo de negocio\n",
    "\n",
    "- declared_product_catalog_size\t= tamaño de productos del catalogo declarado\n",
    "\n",
    "- declared_monthly_revenue = ingresos mensuales declarados"
   ]
  },
  {
   "cell_type": "code",
   "execution_count": 4,
   "metadata": {},
   "outputs": [
    {
     "name": "stdout",
     "output_type": "stream",
     "text": [
      "<class 'pandas.core.frame.DataFrame'>\n",
      "RangeIndex: 842 entries, 0 to 841\n",
      "Data columns (total 14 columns):\n",
      " #   Column                         Non-Null Count  Dtype  \n",
      "---  ------                         --------------  -----  \n",
      " 0   mql_id                         842 non-null    object \n",
      " 1   seller_id                      842 non-null    object \n",
      " 2   sdr_id                         842 non-null    object \n",
      " 3   sr_id                          842 non-null    object \n",
      " 4   won_date                       842 non-null    object \n",
      " 5   business_segment               841 non-null    object \n",
      " 6   lead_type                      836 non-null    object \n",
      " 7   lead_behaviour_profile         665 non-null    object \n",
      " 8   has_company                    63 non-null     object \n",
      " 9   has_gtin                       64 non-null     object \n",
      " 10  average_stock                  66 non-null     object \n",
      " 11  business_type                  832 non-null    object \n",
      " 12  declared_product_catalog_size  69 non-null     float64\n",
      " 13  declared_monthly_revenue       842 non-null    float64\n",
      "dtypes: float64(2), object(12)\n",
      "memory usage: 92.2+ KB\n"
     ]
    }
   ],
   "source": [
    "# Tipo de datos de cada columna \n",
    "df_acuerdos.info()"
   ]
  },
  {
   "cell_type": "code",
   "execution_count": 5,
   "metadata": {},
   "outputs": [
    {
     "data": {
      "text/plain": [
       "mql_id                             0\n",
       "seller_id                          0\n",
       "sdr_id                             0\n",
       "sr_id                              0\n",
       "won_date                           0\n",
       "business_segment                   1\n",
       "lead_type                          6\n",
       "lead_behaviour_profile           177\n",
       "has_company                      779\n",
       "has_gtin                         778\n",
       "average_stock                    776\n",
       "business_type                     10\n",
       "declared_product_catalog_size    773\n",
       "declared_monthly_revenue           0\n",
       "dtype: int64"
      ]
     },
     "execution_count": 5,
     "metadata": {},
     "output_type": "execute_result"
    }
   ],
   "source": [
    "# Verificamos cantidad de nulos por columna (atencion a las columnas que tienen muchos valores nulos) \n",
    "\n",
    "df_acuerdos.isnull().sum()"
   ]
  },
  {
   "attachments": {},
   "cell_type": "markdown",
   "metadata": {},
   "source": [
    "- Observación: alta cantidad de valores nulos (o cero) en algunas columnas."
   ]
  },
  {
   "cell_type": "code",
   "execution_count": 6,
   "metadata": {},
   "outputs": [
    {
     "data": {
      "text/plain": [
       "\"Existen 33 tipos de segmentacion de negocio y son los siguientes: ['pet' 'car_accessories' 'home_appliances' 'food_drink' 'health_beauty'\\n 'computers' 'household_utilities' 'construction_tools_house_garden'\\n 'toys' 'sports_leisure' 'stationery' 'food_supplement' 'home_decor'\\n 'bed_bath_table' 'watches' 'fashion_accessories' 'jewerly' 'party'\\n 'small_appliances' 'audio_video_electronics' 'other' 'bags_backpacks'\\n 'home_office_furniture' 'music_instruments' 'books' 'baby'\\n 'air_conditioning' 'phone_mobile' nan 'handcrafted' 'perfume' 'gifts'\\n 'religious' 'games_consoles']\""
      ]
     },
     "execution_count": 6,
     "metadata": {},
     "output_type": "execute_result"
    }
   ],
   "source": [
    "# Verificamos valores unicos de segmentacion de negocio\n",
    "\n",
    "f'Existen {df_acuerdos[\"business_segment\"].value_counts().count()} tipos de segmentacion de negocio y son los siguientes: {df_acuerdos[\"business_segment\"].unique()}'"
   ]
  },
  {
   "cell_type": "code",
   "execution_count": 7,
   "metadata": {},
   "outputs": [
    {
     "data": {
      "text/plain": [
       "\"Existen 8 tipos de iniciativas y son las siguientes: ['online_medium' 'industry' 'online_big' 'online_small' 'offline'\\n 'online_top' 'online_beginner' 'other' nan]\""
      ]
     },
     "execution_count": 7,
     "metadata": {},
     "output_type": "execute_result"
    }
   ],
   "source": [
    "# Verificamos valores unicos de tipos de iniciativas\n",
    "\n",
    "f'Existen {df_acuerdos[\"lead_type\"].value_counts().count()} tipos de iniciativas y son las siguientes: {df_acuerdos[\"lead_type\"].unique()}'"
   ]
  },
  {
   "cell_type": "code",
   "execution_count": 8,
   "metadata": {},
   "outputs": [
    {
     "data": {
      "text/plain": [
       "\"Existen 9 perfiles de comportamiento y son los siguientes: ['cat' 'eagle' nan 'wolf' 'shark' 'cat, wolf' 'eagle, wolf' 'shark, cat'\\n 'eagle, cat' 'shark, wolf']\""
      ]
     },
     "execution_count": 8,
     "metadata": {},
     "output_type": "execute_result"
    }
   ],
   "source": [
    "# Verificamos valores unicos de perfiles de comportamiento\n",
    "\n",
    "f'Existen {df_acuerdos[\"lead_behaviour_profile\"].value_counts().count()} perfiles de comportamiento y son los siguientes: {df_acuerdos[\"lead_behaviour_profile\"].unique()}'"
   ]
  },
  {
   "attachments": {},
   "cell_type": "markdown",
   "metadata": {},
   "source": [
    "KPIs:\n",
    "\n",
    "- Analizar patrones entre clientes potenciales para lograr atraer nuevos.\n",
    "- Analizar segmentos de negocio que menos se repiten y definir como atraer mas clientes potenciales de los mismos.\n",
    "- Analizar tipos de iniciativas que menos se repiten y mejorar las mismas.\n",
    "- Analizar perfiles de comportamiento que más se repiten y brindar mas beneficios a quienes pertenezcan a los mismos."
   ]
  }
 ],
 "metadata": {
  "kernelspec": {
   "display_name": "Python 3",
   "language": "python",
   "name": "python3"
  },
  "language_info": {
   "codemirror_mode": {
    "name": "ipython",
    "version": 3
   },
   "file_extension": ".py",
   "mimetype": "text/x-python",
   "name": "python",
   "nbconvert_exporter": "python",
   "pygments_lexer": "ipython3",
   "version": "3.10.7"
  },
  "orig_nbformat": 4,
  "vscode": {
   "interpreter": {
    "hash": "c259d08bc2cb2f5e0792d6b908d68d0a519f1348398ed9bbfffb6d4d4eafb58d"
   }
  }
 },
 "nbformat": 4,
 "nbformat_minor": 2
}
