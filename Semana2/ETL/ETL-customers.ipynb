{
 "cells": [
  {
   "attachments": {},
   "cell_type": "markdown",
   "metadata": {},
   "source": [
    "## Librerias"
   ]
  },
  {
   "cell_type": "code",
   "execution_count": 1,
   "metadata": {},
   "outputs": [],
   "source": [
    "import pandas as pd\n",
    "import numpy as np"
   ]
  },
  {
   "attachments": {},
   "cell_type": "markdown",
   "metadata": {},
   "source": [
    "## Carga de datasets"
   ]
  },
  {
   "cell_type": "code",
   "execution_count": 105,
   "metadata": {},
   "outputs": [
    {
     "data": {
      "text/html": [
       "<div>\n",
       "<style scoped>\n",
       "    .dataframe tbody tr th:only-of-type {\n",
       "        vertical-align: middle;\n",
       "    }\n",
       "\n",
       "    .dataframe tbody tr th {\n",
       "        vertical-align: top;\n",
       "    }\n",
       "\n",
       "    .dataframe thead th {\n",
       "        text-align: right;\n",
       "    }\n",
       "</style>\n",
       "<table border=\"1\" class=\"dataframe\">\n",
       "  <thead>\n",
       "    <tr style=\"text-align: right;\">\n",
       "      <th></th>\n",
       "      <th>customer_id</th>\n",
       "      <th>customer_unique_id</th>\n",
       "      <th>customer_zip_code_prefix</th>\n",
       "      <th>customer_city</th>\n",
       "      <th>customer_state</th>\n",
       "    </tr>\n",
       "  </thead>\n",
       "  <tbody>\n",
       "    <tr>\n",
       "      <th>0</th>\n",
       "      <td>06b8999e2fba1a1fbc88172c00ba8bc7</td>\n",
       "      <td>861eff4711a542e4b93843c6dd7febb0</td>\n",
       "      <td>14409</td>\n",
       "      <td>franca</td>\n",
       "      <td>SP</td>\n",
       "    </tr>\n",
       "    <tr>\n",
       "      <th>1</th>\n",
       "      <td>18955e83d337fd6b2def6b18a428ac77</td>\n",
       "      <td>290c77bc529b7ac935b93aa66c333dc3</td>\n",
       "      <td>9790</td>\n",
       "      <td>sao bernardo do campo</td>\n",
       "      <td>SP</td>\n",
       "    </tr>\n",
       "    <tr>\n",
       "      <th>2</th>\n",
       "      <td>4e7b3e00288586ebd08712fdd0374a03</td>\n",
       "      <td>060e732b5b29e8181a18229c7b0b2b5e</td>\n",
       "      <td>1151</td>\n",
       "      <td>sao paulo</td>\n",
       "      <td>SP</td>\n",
       "    </tr>\n",
       "    <tr>\n",
       "      <th>3</th>\n",
       "      <td>b2b6027bc5c5109e529d4dc6358b12c3</td>\n",
       "      <td>259dac757896d24d7702b9acbbff3f3c</td>\n",
       "      <td>8775</td>\n",
       "      <td>mogi das cruzes</td>\n",
       "      <td>SP</td>\n",
       "    </tr>\n",
       "    <tr>\n",
       "      <th>4</th>\n",
       "      <td>4f2d8ab171c80ec8364f7c12e35b23ad</td>\n",
       "      <td>345ecd01c38d18a9036ed96c73b8d066</td>\n",
       "      <td>13056</td>\n",
       "      <td>campinas</td>\n",
       "      <td>SP</td>\n",
       "    </tr>\n",
       "    <tr>\n",
       "      <th>...</th>\n",
       "      <td>...</td>\n",
       "      <td>...</td>\n",
       "      <td>...</td>\n",
       "      <td>...</td>\n",
       "      <td>...</td>\n",
       "    </tr>\n",
       "    <tr>\n",
       "      <th>99436</th>\n",
       "      <td>17ddf5dd5d51696bb3d7c6291687be6f</td>\n",
       "      <td>1a29b476fee25c95fbafc67c5ac95cf8</td>\n",
       "      <td>3937</td>\n",
       "      <td>sao paulo</td>\n",
       "      <td>SP</td>\n",
       "    </tr>\n",
       "    <tr>\n",
       "      <th>99437</th>\n",
       "      <td>e7b71a9017aa05c9a7fd292d714858e8</td>\n",
       "      <td>d52a67c98be1cf6a5c84435bd38d095d</td>\n",
       "      <td>6764</td>\n",
       "      <td>taboao da serra</td>\n",
       "      <td>SP</td>\n",
       "    </tr>\n",
       "    <tr>\n",
       "      <th>99438</th>\n",
       "      <td>5e28dfe12db7fb50a4b2f691faecea5e</td>\n",
       "      <td>e9f50caf99f032f0bf3c55141f019d99</td>\n",
       "      <td>60115</td>\n",
       "      <td>fortaleza</td>\n",
       "      <td>CE</td>\n",
       "    </tr>\n",
       "    <tr>\n",
       "      <th>99439</th>\n",
       "      <td>56b18e2166679b8a959d72dd06da27f9</td>\n",
       "      <td>73c2643a0a458b49f58cea58833b192e</td>\n",
       "      <td>92120</td>\n",
       "      <td>canoas</td>\n",
       "      <td>RS</td>\n",
       "    </tr>\n",
       "    <tr>\n",
       "      <th>99440</th>\n",
       "      <td>274fa6071e5e17fe303b9748641082c8</td>\n",
       "      <td>84732c5050c01db9b23e19ba39899398</td>\n",
       "      <td>6703</td>\n",
       "      <td>cotia</td>\n",
       "      <td>SP</td>\n",
       "    </tr>\n",
       "  </tbody>\n",
       "</table>\n",
       "<p>99441 rows × 5 columns</p>\n",
       "</div>"
      ],
      "text/plain": [
       "                            customer_id                customer_unique_id  \\\n",
       "0      06b8999e2fba1a1fbc88172c00ba8bc7  861eff4711a542e4b93843c6dd7febb0   \n",
       "1      18955e83d337fd6b2def6b18a428ac77  290c77bc529b7ac935b93aa66c333dc3   \n",
       "2      4e7b3e00288586ebd08712fdd0374a03  060e732b5b29e8181a18229c7b0b2b5e   \n",
       "3      b2b6027bc5c5109e529d4dc6358b12c3  259dac757896d24d7702b9acbbff3f3c   \n",
       "4      4f2d8ab171c80ec8364f7c12e35b23ad  345ecd01c38d18a9036ed96c73b8d066   \n",
       "...                                 ...                               ...   \n",
       "99436  17ddf5dd5d51696bb3d7c6291687be6f  1a29b476fee25c95fbafc67c5ac95cf8   \n",
       "99437  e7b71a9017aa05c9a7fd292d714858e8  d52a67c98be1cf6a5c84435bd38d095d   \n",
       "99438  5e28dfe12db7fb50a4b2f691faecea5e  e9f50caf99f032f0bf3c55141f019d99   \n",
       "99439  56b18e2166679b8a959d72dd06da27f9  73c2643a0a458b49f58cea58833b192e   \n",
       "99440  274fa6071e5e17fe303b9748641082c8  84732c5050c01db9b23e19ba39899398   \n",
       "\n",
       "       customer_zip_code_prefix          customer_city customer_state  \n",
       "0                         14409                 franca             SP  \n",
       "1                          9790  sao bernardo do campo             SP  \n",
       "2                          1151              sao paulo             SP  \n",
       "3                          8775        mogi das cruzes             SP  \n",
       "4                         13056               campinas             SP  \n",
       "...                         ...                    ...            ...  \n",
       "99436                      3937              sao paulo             SP  \n",
       "99437                      6764        taboao da serra             SP  \n",
       "99438                     60115              fortaleza             CE  \n",
       "99439                     92120                 canoas             RS  \n",
       "99440                      6703                  cotia             SP  \n",
       "\n",
       "[99441 rows x 5 columns]"
      ]
     },
     "execution_count": 105,
     "metadata": {},
     "output_type": "execute_result"
    }
   ],
   "source": [
    "url = 'https://raw.githubusercontent.com/ronalcabrera/PG_Olist/main/Datasets/olist_customers_dataset.csv'\n",
    "customers = pd.read_csv(url, delimiter=',', encoding='UTF-8')\n",
    "customers"
   ]
  },
  {
   "attachments": {},
   "cell_type": "markdown",
   "metadata": {},
   "source": [
    "## Columnas `customer_id` & `customer_unique_id`"
   ]
  },
  {
   "attachments": {},
   "cell_type": "markdown",
   "metadata": {},
   "source": [
    "Verifico si hay duplicados:"
   ]
  },
  {
   "cell_type": "code",
   "execution_count": 29,
   "metadata": {},
   "outputs": [
    {
     "data": {
      "text/plain": [
       "customer_id\n",
       "00012a2ce6f8dcda20d059ce98491703    1\n",
       "000161a058600d5901f007fab4c27140    1\n",
       "0001fd6190edaaf884bcaf3d49edf079    1\n",
       "0002414f95344307404f0ace7a26f1d5    1\n",
       "000379cdec625522490c315e70c7a9fb    1\n",
       "                                   ..\n",
       "fffecc9f79fd8c764f843e9951b11341    1\n",
       "fffeda5b6d849fbd39689bb92087f431    1\n",
       "ffff42319e9b2d713724ae527742af25    1\n",
       "ffffa3172527f765de70084a7e53aae8    1\n",
       "ffffe8b65bbe3087b653a978c870db99    1\n",
       "Name: customer_unique_id, Length: 99441, dtype: int64"
      ]
     },
     "execution_count": 29,
     "metadata": {},
     "output_type": "execute_result"
    }
   ],
   "source": [
    "customers[['customer_id','customer_unique_id']].groupby(['customer_id'])['customer_unique_id'].count()"
   ]
  },
  {
   "attachments": {},
   "cell_type": "markdown",
   "metadata": {},
   "source": [
    "Se verifica que hay la misma cantidad de filas luego de agrupar por `customer_id`, no hay customer_id duplicados.<br>\n",
    "Inconcluso a que se refiere con la columna `customer_unique_id` ya que son todos únicos."
   ]
  },
  {
   "cell_type": "markdown",
   "metadata": {},
   "source": [
    "## Columna `customer_zip_code_prefix`"
   ]
  },
  {
   "cell_type": "markdown",
   "metadata": {},
   "source": [
    "Verifico el tipo de dato este correcto"
   ]
  },
  {
   "cell_type": "code",
   "execution_count": 36,
   "metadata": {},
   "outputs": [
    {
     "name": "stdout",
     "output_type": "stream",
     "text": [
      "<class 'pandas.core.frame.DataFrame'>\n",
      "RangeIndex: 99441 entries, 0 to 99440\n",
      "Data columns (total 5 columns):\n",
      " #   Column                    Non-Null Count  Dtype \n",
      "---  ------                    --------------  ----- \n",
      " 0   customer_id               99441 non-null  object\n",
      " 1   customer_unique_id        99441 non-null  object\n",
      " 2   customer_zip_code_prefix  99441 non-null  int64 \n",
      " 3   customer_city             99441 non-null  object\n",
      " 4   customer_state            99441 non-null  object\n",
      "dtypes: int64(1), object(4)\n",
      "memory usage: 3.8+ MB\n"
     ]
    }
   ],
   "source": [
    "customers.info()"
   ]
  },
  {
   "attachments": {},
   "cell_type": "markdown",
   "metadata": {},
   "source": [
    "Por el tipo de dato de la columna `customer_zip_code_prefix` se verifica que son todos números enteros, procedo a listarlos y contarlos."
   ]
  },
  {
   "cell_type": "code",
   "execution_count": 43,
   "metadata": {},
   "outputs": [
    {
     "data": {
      "text/plain": [
       "14994"
      ]
     },
     "execution_count": 43,
     "metadata": {},
     "output_type": "execute_result"
    }
   ],
   "source": [
    "zip_code_prefix = customers['customer_zip_code_prefix'].unique().tolist()\n",
    "zip_code_prefix.sort()\n",
    "len(zip_code_prefix)"
   ]
  },
  {
   "cell_type": "markdown",
   "metadata": {},
   "source": [
    "Verifico que los prefijos y las abreviaturas esten bien"
   ]
  },
  {
   "attachments": {},
   "cell_type": "markdown",
   "metadata": {},
   "source": [
    "Primero verifico que los valores mínimos esten dentro del rango, luego verifico los máximos"
   ]
  },
  {
   "cell_type": "code",
   "execution_count": 83,
   "metadata": {},
   "outputs": [
    {
     "data": {
      "text/html": [
       "<div>\n",
       "<style scoped>\n",
       "    .dataframe tbody tr th:only-of-type {\n",
       "        vertical-align: middle;\n",
       "    }\n",
       "\n",
       "    .dataframe tbody tr th {\n",
       "        vertical-align: top;\n",
       "    }\n",
       "\n",
       "    .dataframe thead th {\n",
       "        text-align: right;\n",
       "    }\n",
       "</style>\n",
       "<table border=\"1\" class=\"dataframe\">\n",
       "  <thead>\n",
       "    <tr style=\"text-align: right;\">\n",
       "      <th></th>\n",
       "      <th>customer_zip_code_prefix</th>\n",
       "      <th>prefix_max</th>\n",
       "    </tr>\n",
       "    <tr>\n",
       "      <th>customer_state</th>\n",
       "      <th></th>\n",
       "      <th></th>\n",
       "    </tr>\n",
       "  </thead>\n",
       "  <tbody>\n",
       "    <tr>\n",
       "      <th>SP</th>\n",
       "      <td>1003</td>\n",
       "      <td>19970</td>\n",
       "    </tr>\n",
       "    <tr>\n",
       "      <th>RJ</th>\n",
       "      <td>20010</td>\n",
       "      <td>28999</td>\n",
       "    </tr>\n",
       "    <tr>\n",
       "      <th>ES</th>\n",
       "      <td>29010</td>\n",
       "      <td>29985</td>\n",
       "    </tr>\n",
       "    <tr>\n",
       "      <th>MG</th>\n",
       "      <td>30110</td>\n",
       "      <td>39995</td>\n",
       "    </tr>\n",
       "    <tr>\n",
       "      <th>BA</th>\n",
       "      <td>40010</td>\n",
       "      <td>48990</td>\n",
       "    </tr>\n",
       "    <tr>\n",
       "      <th>SE</th>\n",
       "      <td>49000</td>\n",
       "      <td>49995</td>\n",
       "    </tr>\n",
       "    <tr>\n",
       "      <th>PE</th>\n",
       "      <td>50010</td>\n",
       "      <td>56980</td>\n",
       "    </tr>\n",
       "    <tr>\n",
       "      <th>AL</th>\n",
       "      <td>57010</td>\n",
       "      <td>57975</td>\n",
       "    </tr>\n",
       "    <tr>\n",
       "      <th>PB</th>\n",
       "      <td>58010</td>\n",
       "      <td>58995</td>\n",
       "    </tr>\n",
       "    <tr>\n",
       "      <th>RN</th>\n",
       "      <td>59010</td>\n",
       "      <td>59995</td>\n",
       "    </tr>\n",
       "    <tr>\n",
       "      <th>CE</th>\n",
       "      <td>60010</td>\n",
       "      <td>63960</td>\n",
       "    </tr>\n",
       "    <tr>\n",
       "      <th>PI</th>\n",
       "      <td>64000</td>\n",
       "      <td>64980</td>\n",
       "    </tr>\n",
       "    <tr>\n",
       "      <th>MA</th>\n",
       "      <td>65010</td>\n",
       "      <td>65980</td>\n",
       "    </tr>\n",
       "    <tr>\n",
       "      <th>PA</th>\n",
       "      <td>66010</td>\n",
       "      <td>68820</td>\n",
       "    </tr>\n",
       "    <tr>\n",
       "      <th>AP</th>\n",
       "      <td>68900</td>\n",
       "      <td>68997</td>\n",
       "    </tr>\n",
       "    <tr>\n",
       "      <th>AM</th>\n",
       "      <td>69005</td>\n",
       "      <td>69800</td>\n",
       "    </tr>\n",
       "    <tr>\n",
       "      <th>RR</th>\n",
       "      <td>69301</td>\n",
       "      <td>69380</td>\n",
       "    </tr>\n",
       "    <tr>\n",
       "      <th>AC</th>\n",
       "      <td>69900</td>\n",
       "      <td>69980</td>\n",
       "    </tr>\n",
       "    <tr>\n",
       "      <th>DF</th>\n",
       "      <td>70040</td>\n",
       "      <td>73402</td>\n",
       "    </tr>\n",
       "    <tr>\n",
       "      <th>GO</th>\n",
       "      <td>72800</td>\n",
       "      <td>76730</td>\n",
       "    </tr>\n",
       "    <tr>\n",
       "      <th>RO</th>\n",
       "      <td>76801</td>\n",
       "      <td>76997</td>\n",
       "    </tr>\n",
       "    <tr>\n",
       "      <th>TO</th>\n",
       "      <td>77001</td>\n",
       "      <td>77995</td>\n",
       "    </tr>\n",
       "    <tr>\n",
       "      <th>MT</th>\n",
       "      <td>78005</td>\n",
       "      <td>78890</td>\n",
       "    </tr>\n",
       "    <tr>\n",
       "      <th>MS</th>\n",
       "      <td>79002</td>\n",
       "      <td>79995</td>\n",
       "    </tr>\n",
       "    <tr>\n",
       "      <th>PR</th>\n",
       "      <td>80010</td>\n",
       "      <td>87990</td>\n",
       "    </tr>\n",
       "    <tr>\n",
       "      <th>SC</th>\n",
       "      <td>88010</td>\n",
       "      <td>89998</td>\n",
       "    </tr>\n",
       "    <tr>\n",
       "      <th>RS</th>\n",
       "      <td>90010</td>\n",
       "      <td>99990</td>\n",
       "    </tr>\n",
       "  </tbody>\n",
       "</table>\n",
       "</div>"
      ],
      "text/plain": [
       "                customer_zip_code_prefix  prefix_max\n",
       "customer_state                                      \n",
       "SP                                  1003       19970\n",
       "RJ                                 20010       28999\n",
       "ES                                 29010       29985\n",
       "MG                                 30110       39995\n",
       "BA                                 40010       48990\n",
       "SE                                 49000       49995\n",
       "PE                                 50010       56980\n",
       "AL                                 57010       57975\n",
       "PB                                 58010       58995\n",
       "RN                                 59010       59995\n",
       "CE                                 60010       63960\n",
       "PI                                 64000       64980\n",
       "MA                                 65010       65980\n",
       "PA                                 66010       68820\n",
       "AP                                 68900       68997\n",
       "AM                                 69005       69800\n",
       "RR                                 69301       69380\n",
       "AC                                 69900       69980\n",
       "DF                                 70040       73402\n",
       "GO                                 72800       76730\n",
       "RO                                 76801       76997\n",
       "TO                                 77001       77995\n",
       "MT                                 78005       78890\n",
       "MS                                 79002       79995\n",
       "PR                                 80010       87990\n",
       "SC                                 88010       89998\n",
       "RS                                 90010       99990"
      ]
     },
     "execution_count": 83,
     "metadata": {},
     "output_type": "execute_result"
    }
   ],
   "source": [
    "df = customers[['customer_state','customer_zip_code_prefix']].groupby(['customer_state'], ).min()\n",
    "df['prefix_max'] = customers[['customer_state','customer_zip_code_prefix']].groupby(['customer_state'], ).max().values\n",
    "df.sort_values('customer_zip_code_prefix')"
   ]
  },
  {
   "attachments": {},
   "cell_type": "markdown",
   "metadata": {},
   "source": [
    "Problemas:<br>\n",
    "• AM y RR comparten rango entre 69301-69380 (RR incluído dentro del rango de AM)<br>\n",
    "• DF y GO comparten rango entre 72800-73402<br>\n",
    "Verifico el nombre de los estados en los intervalos para chequear"
   ]
  },
  {
   "cell_type": "code",
   "execution_count": 85,
   "metadata": {},
   "outputs": [
    {
     "data": {
      "text/html": [
       "<div>\n",
       "<style scoped>\n",
       "    .dataframe tbody tr th:only-of-type {\n",
       "        vertical-align: middle;\n",
       "    }\n",
       "\n",
       "    .dataframe tbody tr th {\n",
       "        vertical-align: top;\n",
       "    }\n",
       "\n",
       "    .dataframe thead th {\n",
       "        text-align: right;\n",
       "    }\n",
       "</style>\n",
       "<table border=\"1\" class=\"dataframe\">\n",
       "  <thead>\n",
       "    <tr style=\"text-align: right;\">\n",
       "      <th></th>\n",
       "      <th>customer_id</th>\n",
       "      <th>customer_unique_id</th>\n",
       "      <th>customer_zip_code_prefix</th>\n",
       "      <th>customer_city</th>\n",
       "      <th>customer_state</th>\n",
       "    </tr>\n",
       "  </thead>\n",
       "  <tbody>\n",
       "  </tbody>\n",
       "</table>\n",
       "</div>"
      ],
      "text/plain": [
       "Empty DataFrame\n",
       "Columns: [customer_id, customer_unique_id, customer_zip_code_prefix, customer_city, customer_state]\n",
       "Index: []"
      ]
     },
     "execution_count": 85,
     "metadata": {},
     "output_type": "execute_result"
    }
   ],
   "source": [
    "customers[(customers['customer_zip_code_prefix']>69300) & \n",
    "            (customers['customer_zip_code_prefix']<69380) & \n",
    "            (customers['customer_state']=='AM')]"
   ]
  },
  {
   "attachments": {},
   "cell_type": "markdown",
   "metadata": {},
   "source": [
    "No se pisan, ahora verifico los que estan fuera del rango de RR y siguien siendo AM"
   ]
  },
  {
   "cell_type": "code",
   "execution_count": 87,
   "metadata": {},
   "outputs": [
    {
     "data": {
      "text/html": [
       "<div>\n",
       "<style scoped>\n",
       "    .dataframe tbody tr th:only-of-type {\n",
       "        vertical-align: middle;\n",
       "    }\n",
       "\n",
       "    .dataframe tbody tr th {\n",
       "        vertical-align: top;\n",
       "    }\n",
       "\n",
       "    .dataframe thead th {\n",
       "        text-align: right;\n",
       "    }\n",
       "</style>\n",
       "<table border=\"1\" class=\"dataframe\">\n",
       "  <thead>\n",
       "    <tr style=\"text-align: right;\">\n",
       "      <th></th>\n",
       "      <th>customer_id</th>\n",
       "      <th>customer_unique_id</th>\n",
       "      <th>customer_zip_code_prefix</th>\n",
       "      <th>customer_city</th>\n",
       "      <th>customer_state</th>\n",
       "    </tr>\n",
       "  </thead>\n",
       "  <tbody>\n",
       "    <tr>\n",
       "      <th>5713</th>\n",
       "      <td>6e8a9c87724e18b7e567193cdd3e4b45</td>\n",
       "      <td>8fe805d171f920bf0ae393368aad5316</td>\n",
       "      <td>69800</td>\n",
       "      <td>humaita</td>\n",
       "      <td>AM</td>\n",
       "    </tr>\n",
       "    <tr>\n",
       "      <th>56845</th>\n",
       "      <td>df6d93efba53a613bf2365f7945febb0</td>\n",
       "      <td>9484cca8fd716e613bc1a0bb17ed0172</td>\n",
       "      <td>69800</td>\n",
       "      <td>humaita</td>\n",
       "      <td>AM</td>\n",
       "    </tr>\n",
       "    <tr>\n",
       "      <th>68437</th>\n",
       "      <td>19faaa8953bbd5166298b6f2a3f84298</td>\n",
       "      <td>3246cc1ffb8b0e719e5ba4db0443185d</td>\n",
       "      <td>69460</td>\n",
       "      <td>coari</td>\n",
       "      <td>AM</td>\n",
       "    </tr>\n",
       "    <tr>\n",
       "      <th>76259</th>\n",
       "      <td>a685e039c2149f0278def380b654b0b8</td>\n",
       "      <td>ccb89ab59ba8eec8518110077868630a</td>\n",
       "      <td>69800</td>\n",
       "      <td>humaita</td>\n",
       "      <td>AM</td>\n",
       "    </tr>\n",
       "    <tr>\n",
       "      <th>80440</th>\n",
       "      <td>ec9dfbd6b5010c0bb5164e740e002d6d</td>\n",
       "      <td>e084d4891d0ffe9337c6b562b2df42b2</td>\n",
       "      <td>69800</td>\n",
       "      <td>humaita</td>\n",
       "      <td>AM</td>\n",
       "    </tr>\n",
       "  </tbody>\n",
       "</table>\n",
       "</div>"
      ],
      "text/plain": [
       "                            customer_id                customer_unique_id  \\\n",
       "5713   6e8a9c87724e18b7e567193cdd3e4b45  8fe805d171f920bf0ae393368aad5316   \n",
       "56845  df6d93efba53a613bf2365f7945febb0  9484cca8fd716e613bc1a0bb17ed0172   \n",
       "68437  19faaa8953bbd5166298b6f2a3f84298  3246cc1ffb8b0e719e5ba4db0443185d   \n",
       "76259  a685e039c2149f0278def380b654b0b8  ccb89ab59ba8eec8518110077868630a   \n",
       "80440  ec9dfbd6b5010c0bb5164e740e002d6d  e084d4891d0ffe9337c6b562b2df42b2   \n",
       "\n",
       "       customer_zip_code_prefix customer_city customer_state  \n",
       "5713                      69800       humaita             AM  \n",
       "56845                     69800       humaita             AM  \n",
       "68437                     69460         coari             AM  \n",
       "76259                     69800       humaita             AM  \n",
       "80440                     69800       humaita             AM  "
      ]
     },
     "execution_count": 87,
     "metadata": {},
     "output_type": "execute_result"
    }
   ],
   "source": [
    "customers[(customers['customer_zip_code_prefix']>69380) & (customers['customer_state']=='AM')]"
   ]
  },
  {
   "attachments": {},
   "cell_type": "markdown",
   "metadata": {},
   "source": [
    "Los datos son correctos, ante cualquier duda referir:<br>\n",
    "• humaita https://codigo-postal.org/brasil/am/humaita/<br>\n",
    "• coari https://codigo-postal.org/brasil/am/coari/"
   ]
  },
  {
   "cell_type": "code",
   "execution_count": 96,
   "metadata": {},
   "outputs": [
    {
     "data": {
      "text/html": [
       "<div>\n",
       "<style scoped>\n",
       "    .dataframe tbody tr th:only-of-type {\n",
       "        vertical-align: middle;\n",
       "    }\n",
       "\n",
       "    .dataframe tbody tr th {\n",
       "        vertical-align: top;\n",
       "    }\n",
       "\n",
       "    .dataframe thead th {\n",
       "        text-align: right;\n",
       "    }\n",
       "</style>\n",
       "<table border=\"1\" class=\"dataframe\">\n",
       "  <thead>\n",
       "    <tr style=\"text-align: right;\">\n",
       "      <th></th>\n",
       "      <th>customer_state</th>\n",
       "    </tr>\n",
       "    <tr>\n",
       "      <th>customer_city</th>\n",
       "      <th></th>\n",
       "    </tr>\n",
       "  </thead>\n",
       "  <tbody>\n",
       "    <tr>\n",
       "      <th>brasilia</th>\n",
       "      <td>173</td>\n",
       "    </tr>\n",
       "    <tr>\n",
       "      <th>sobradinho</th>\n",
       "      <td>1</td>\n",
       "    </tr>\n",
       "  </tbody>\n",
       "</table>\n",
       "</div>"
      ],
      "text/plain": [
       "               customer_state\n",
       "customer_city                \n",
       "brasilia                  173\n",
       "sobradinho                  1"
      ]
     },
     "execution_count": 96,
     "metadata": {},
     "output_type": "execute_result"
    }
   ],
   "source": [
    "customers[(customers['customer_zip_code_prefix']>72799) &\n",
    "         (customers['customer_zip_code_prefix']<73403) & \n",
    "         (customers['customer_state']=='DF')].groupby(['customer_city'])[['customer_state']].count()"
   ]
  },
  {
   "cell_type": "code",
   "execution_count": 97,
   "metadata": {},
   "outputs": [
    {
     "data": {
      "text/html": [
       "<div>\n",
       "<style scoped>\n",
       "    .dataframe tbody tr th:only-of-type {\n",
       "        vertical-align: middle;\n",
       "    }\n",
       "\n",
       "    .dataframe tbody tr th {\n",
       "        vertical-align: top;\n",
       "    }\n",
       "\n",
       "    .dataframe thead th {\n",
       "        text-align: right;\n",
       "    }\n",
       "</style>\n",
       "<table border=\"1\" class=\"dataframe\">\n",
       "  <thead>\n",
       "    <tr style=\"text-align: right;\">\n",
       "      <th></th>\n",
       "      <th>customer_id</th>\n",
       "      <th>customer_unique_id</th>\n",
       "      <th>customer_zip_code_prefix</th>\n",
       "      <th>customer_city</th>\n",
       "      <th>customer_state</th>\n",
       "    </tr>\n",
       "  </thead>\n",
       "  <tbody>\n",
       "    <tr>\n",
       "      <th>144</th>\n",
       "      <td>d6ea00d4a2dca6a01c708931b325a9e5</td>\n",
       "      <td>1d4626b197f66aa6129c135ab09f1a7b</td>\n",
       "      <td>73020</td>\n",
       "      <td>brasilia</td>\n",
       "      <td>DF</td>\n",
       "    </tr>\n",
       "    <tr>\n",
       "      <th>324</th>\n",
       "      <td>8bbcf9a0717a1cb212b45522ef61972c</td>\n",
       "      <td>3078dfe83b099ae6ebe055be3abe0c0d</td>\n",
       "      <td>73035</td>\n",
       "      <td>brasilia</td>\n",
       "      <td>DF</td>\n",
       "    </tr>\n",
       "    <tr>\n",
       "      <th>1024</th>\n",
       "      <td>a55002f0d9ba4aa981a3cc93c669617a</td>\n",
       "      <td>4f463757edb0250ec353ab6f3610cf34</td>\n",
       "      <td>73330</td>\n",
       "      <td>brasilia</td>\n",
       "      <td>DF</td>\n",
       "    </tr>\n",
       "    <tr>\n",
       "      <th>1235</th>\n",
       "      <td>7c6c12489e36aafa4ab5dfcfef887475</td>\n",
       "      <td>55133cf96f44c834ac51d0e3b678c7a8</td>\n",
       "      <td>73035</td>\n",
       "      <td>brasilia</td>\n",
       "      <td>DF</td>\n",
       "    </tr>\n",
       "    <tr>\n",
       "      <th>2095</th>\n",
       "      <td>baca33004aa726524d5a891853100559</td>\n",
       "      <td>aa67457bb07fde4e952d67b038135bee</td>\n",
       "      <td>73369</td>\n",
       "      <td>brasilia</td>\n",
       "      <td>DF</td>\n",
       "    </tr>\n",
       "    <tr>\n",
       "      <th>...</th>\n",
       "      <td>...</td>\n",
       "      <td>...</td>\n",
       "      <td>...</td>\n",
       "      <td>...</td>\n",
       "      <td>...</td>\n",
       "    </tr>\n",
       "    <tr>\n",
       "      <th>96886</th>\n",
       "      <td>d43a38a1b87c85d51d3c00ab2dd19390</td>\n",
       "      <td>e906b389ad2bfb4058e80f63e73b3458</td>\n",
       "      <td>73252</td>\n",
       "      <td>brasilia</td>\n",
       "      <td>DF</td>\n",
       "    </tr>\n",
       "    <tr>\n",
       "      <th>97721</th>\n",
       "      <td>484572a7bd433021fd437bc6f29c8544</td>\n",
       "      <td>af7bb09e58dadca0e5f11e1a3ad0c2a9</td>\n",
       "      <td>73350</td>\n",
       "      <td>brasilia</td>\n",
       "      <td>DF</td>\n",
       "    </tr>\n",
       "    <tr>\n",
       "      <th>97986</th>\n",
       "      <td>5e28718800958c9b17749226df1f8b02</td>\n",
       "      <td>2e7bb3aad177a6e3bf8abd2de27c2a09</td>\n",
       "      <td>73368</td>\n",
       "      <td>brasilia</td>\n",
       "      <td>DF</td>\n",
       "    </tr>\n",
       "    <tr>\n",
       "      <th>98371</th>\n",
       "      <td>e62cf9e803aee2389d750a99f8a2986e</td>\n",
       "      <td>e5f6bf6e4999102bc5405eb858869122</td>\n",
       "      <td>73370</td>\n",
       "      <td>brasilia</td>\n",
       "      <td>DF</td>\n",
       "    </tr>\n",
       "    <tr>\n",
       "      <th>99367</th>\n",
       "      <td>a072679ac4ac4d56f1aaff9e763836ed</td>\n",
       "      <td>d632eddd34f00aa9d19613ba9cef6294</td>\n",
       "      <td>73060</td>\n",
       "      <td>brasilia</td>\n",
       "      <td>DF</td>\n",
       "    </tr>\n",
       "  </tbody>\n",
       "</table>\n",
       "<p>174 rows × 5 columns</p>\n",
       "</div>"
      ],
      "text/plain": [
       "                            customer_id                customer_unique_id  \\\n",
       "144    d6ea00d4a2dca6a01c708931b325a9e5  1d4626b197f66aa6129c135ab09f1a7b   \n",
       "324    8bbcf9a0717a1cb212b45522ef61972c  3078dfe83b099ae6ebe055be3abe0c0d   \n",
       "1024   a55002f0d9ba4aa981a3cc93c669617a  4f463757edb0250ec353ab6f3610cf34   \n",
       "1235   7c6c12489e36aafa4ab5dfcfef887475  55133cf96f44c834ac51d0e3b678c7a8   \n",
       "2095   baca33004aa726524d5a891853100559  aa67457bb07fde4e952d67b038135bee   \n",
       "...                                 ...                               ...   \n",
       "96886  d43a38a1b87c85d51d3c00ab2dd19390  e906b389ad2bfb4058e80f63e73b3458   \n",
       "97721  484572a7bd433021fd437bc6f29c8544  af7bb09e58dadca0e5f11e1a3ad0c2a9   \n",
       "97986  5e28718800958c9b17749226df1f8b02  2e7bb3aad177a6e3bf8abd2de27c2a09   \n",
       "98371  e62cf9e803aee2389d750a99f8a2986e  e5f6bf6e4999102bc5405eb858869122   \n",
       "99367  a072679ac4ac4d56f1aaff9e763836ed  d632eddd34f00aa9d19613ba9cef6294   \n",
       "\n",
       "       customer_zip_code_prefix customer_city customer_state  \n",
       "144                       73020      brasilia             DF  \n",
       "324                       73035      brasilia             DF  \n",
       "1024                      73330      brasilia             DF  \n",
       "1235                      73035      brasilia             DF  \n",
       "2095                      73369      brasilia             DF  \n",
       "...                         ...           ...            ...  \n",
       "96886                     73252      brasilia             DF  \n",
       "97721                     73350      brasilia             DF  \n",
       "97986                     73368      brasilia             DF  \n",
       "98371                     73370      brasilia             DF  \n",
       "99367                     73060      brasilia             DF  \n",
       "\n",
       "[174 rows x 5 columns]"
      ]
     },
     "execution_count": 97,
     "metadata": {},
     "output_type": "execute_result"
    }
   ],
   "source": [
    "customers[(customers['customer_zip_code_prefix']>72799) &\n",
    "         (customers['customer_zip_code_prefix']<73403) & \n",
    "         (customers['customer_state']=='DF')]"
   ]
  },
  {
   "attachments": {},
   "cell_type": "markdown",
   "metadata": {},
   "source": [
    "Los datos son correctos, ante cualquier duda referir:<br>\n",
    "• Brasilia https://www.worldpostalcodes.org/l1/pt/br/brasil/lista/r1/lista-dos-codigos-postais-em-distrito-federal\n"
   ]
  },
  {
   "cell_type": "code",
   "execution_count": 107,
   "metadata": {},
   "outputs": [
    {
     "data": {
      "text/html": [
       "<div>\n",
       "<style scoped>\n",
       "    .dataframe tbody tr th:only-of-type {\n",
       "        vertical-align: middle;\n",
       "    }\n",
       "\n",
       "    .dataframe tbody tr th {\n",
       "        vertical-align: top;\n",
       "    }\n",
       "\n",
       "    .dataframe thead th {\n",
       "        text-align: right;\n",
       "    }\n",
       "</style>\n",
       "<table border=\"1\" class=\"dataframe\">\n",
       "  <thead>\n",
       "    <tr style=\"text-align: right;\">\n",
       "      <th></th>\n",
       "      <th>customer_id</th>\n",
       "      <th>customer_unique_id</th>\n",
       "      <th>customer_zip_code_prefix</th>\n",
       "      <th>customer_city</th>\n",
       "      <th>customer_state</th>\n",
       "    </tr>\n",
       "  </thead>\n",
       "  <tbody>\n",
       "    <tr>\n",
       "      <th>8262</th>\n",
       "      <td>075ef61489ef7122c2a0f69e79c55ff3</td>\n",
       "      <td>757423381d83adecca877fc69cfb8540</td>\n",
       "      <td>73060</td>\n",
       "      <td>sobradinho</td>\n",
       "      <td>DF</td>\n",
       "    </tr>\n",
       "  </tbody>\n",
       "</table>\n",
       "</div>"
      ],
      "text/plain": [
       "                           customer_id                customer_unique_id  \\\n",
       "8262  075ef61489ef7122c2a0f69e79c55ff3  757423381d83adecca877fc69cfb8540   \n",
       "\n",
       "      customer_zip_code_prefix customer_city customer_state  \n",
       "8262                     73060    sobradinho             DF  "
      ]
     },
     "execution_count": 107,
     "metadata": {},
     "output_type": "execute_result"
    }
   ],
   "source": [
    "customers[(customers['customer_zip_code_prefix']>72799) &\n",
    "         (customers['customer_zip_code_prefix']<73403) & \n",
    "         (customers['customer_city']=='sobradinho')]"
   ]
  },
  {
   "attachments": {},
   "cell_type": "markdown",
   "metadata": {},
   "source": [
    "Este código postal corresponde a Brasilia, que si se encuentra en Distrito Federal como indica en la siguiente columna,<br>\n",
    "el correspondiente a `sobradinho` es 48925, asi que se corregirá la ciudad a Brasilia."
   ]
  },
  {
   "cell_type": "code",
   "execution_count": 110,
   "metadata": {},
   "outputs": [
    {
     "data": {
      "text/plain": [
       "'brasilia'"
      ]
     },
     "execution_count": 110,
     "metadata": {},
     "output_type": "execute_result"
    }
   ],
   "source": [
    "customers.iloc[8262,3]='brasilia'\n",
    "customers.iloc[8262,3]\n"
   ]
  },
  {
   "attachments": {},
   "cell_type": "markdown",
   "metadata": {},
   "source": [
    "## Columna `customer_city`"
   ]
  },
  {
   "attachments": {},
   "cell_type": "markdown",
   "metadata": {},
   "source": [
    "No vamos a trabajar con esta columna, asi que no se le hará ningún tratamiento"
   ]
  },
  {
   "cell_type": "markdown",
   "metadata": {},
   "source": [
    "## Columna `customer_state`"
   ]
  },
  {
   "cell_type": "code",
   "execution_count": 116,
   "metadata": {},
   "outputs": [
    {
     "name": "stdout",
     "output_type": "stream",
     "text": [
      "Cantidad de federaciones: 27\n",
      "['SP', 'SC', 'MG', 'PR', 'RJ', 'RS', 'PA', 'GO', 'ES', 'BA', 'MA', 'MS', 'CE', 'DF', 'RN', 'PE', 'MT', 'AM', 'AP', 'AL', 'RO', 'PB', 'TO', 'PI', 'AC', 'SE', 'RR']\n"
     ]
    }
   ],
   "source": [
    "print('Cantidad de federaciones:',len(customers.customer_state.unique().tolist()))\n",
    "print(customers.customer_state.unique().tolist())"
   ]
  },
  {
   "attachments": {},
   "cell_type": "markdown",
   "metadata": {},
   "source": [
    "Los códigos son correctos, nada que agregar."
   ]
  }
 ],
 "metadata": {
  "kernelspec": {
   "display_name": "Python 3",
   "language": "python",
   "name": "python3"
  },
  "language_info": {
   "codemirror_mode": {
    "name": "ipython",
    "version": 3
   },
   "file_extension": ".py",
   "mimetype": "text/x-python",
   "name": "python",
   "nbconvert_exporter": "python",
   "pygments_lexer": "ipython3",
   "version": "3.10.8 (tags/v3.10.8:aaaf517, Oct 11 2022, 16:50:30) [MSC v.1933 64 bit (AMD64)]"
  },
  "orig_nbformat": 4,
  "vscode": {
   "interpreter": {
    "hash": "55a808d16bf328e86a0bb0594659d349c68917da1cea92407dc92d39412f9ec9"
   }
  }
 },
 "nbformat": 4,
 "nbformat_minor": 2
}
