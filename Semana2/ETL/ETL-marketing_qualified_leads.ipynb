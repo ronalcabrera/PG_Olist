{
 "cells": [
  {
   "attachments": {},
   "cell_type": "markdown",
   "metadata": {},
   "source": [
    "## ETL olist_marketing_qualified_leads_dataset"
   ]
  },
  {
   "cell_type": "code",
   "execution_count": 1,
   "metadata": {},
   "outputs": [],
   "source": [
    "import pandas as pd\n",
    "import numpy as np"
   ]
  },
  {
   "cell_type": "code",
   "execution_count": 2,
   "metadata": {},
   "outputs": [],
   "source": [
    "#Ingestamos datasets\n",
    "url='https://raw.githubusercontent.com/ronalcabrera/PG_Olist/main/Datasets/olist_marketing_qualified_leads_dataset.csv'\n",
    "marketing_qualified_leads=pd.read_csv(url, delimiter=',', encoding='UTF-8')"
   ]
  },
  {
   "cell_type": "code",
   "execution_count": 12,
   "metadata": {},
   "outputs": [
    {
     "data": {
      "text/html": [
       "<div>\n",
       "<style scoped>\n",
       "    .dataframe tbody tr th:only-of-type {\n",
       "        vertical-align: middle;\n",
       "    }\n",
       "\n",
       "    .dataframe tbody tr th {\n",
       "        vertical-align: top;\n",
       "    }\n",
       "\n",
       "    .dataframe thead th {\n",
       "        text-align: right;\n",
       "    }\n",
       "</style>\n",
       "<table border=\"1\" class=\"dataframe\">\n",
       "  <thead>\n",
       "    <tr style=\"text-align: right;\">\n",
       "      <th></th>\n",
       "      <th>mql_id</th>\n",
       "      <th>first_contact_date</th>\n",
       "      <th>landing_page_id</th>\n",
       "      <th>origin</th>\n",
       "    </tr>\n",
       "  </thead>\n",
       "  <tbody>\n",
       "    <tr>\n",
       "      <th>0</th>\n",
       "      <td>dac32acd4db4c29c230538b72f8dd87d</td>\n",
       "      <td>2018-02-01</td>\n",
       "      <td>88740e65d5d6b056e0cda098e1ea6313</td>\n",
       "      <td>social</td>\n",
       "    </tr>\n",
       "    <tr>\n",
       "      <th>1</th>\n",
       "      <td>8c18d1de7f67e60dbd64e3c07d7e9d5d</td>\n",
       "      <td>2017-10-20</td>\n",
       "      <td>007f9098284a86ee80ddeb25d53e0af8</td>\n",
       "      <td>paid_search</td>\n",
       "    </tr>\n",
       "    <tr>\n",
       "      <th>2</th>\n",
       "      <td>b4bc852d233dfefc5131f593b538befa</td>\n",
       "      <td>2018-03-22</td>\n",
       "      <td>a7982125ff7aa3b2054c6e44f9d28522</td>\n",
       "      <td>organic_search</td>\n",
       "    </tr>\n",
       "    <tr>\n",
       "      <th>3</th>\n",
       "      <td>6be030b81c75970747525b843c1ef4f8</td>\n",
       "      <td>2018-01-22</td>\n",
       "      <td>d45d558f0daeecf3cccdffe3c59684aa</td>\n",
       "      <td>email</td>\n",
       "    </tr>\n",
       "    <tr>\n",
       "      <th>4</th>\n",
       "      <td>5420aad7fec3549a85876ba1c529bd84</td>\n",
       "      <td>2018-02-21</td>\n",
       "      <td>b48ec5f3b04e9068441002a19df93c6c</td>\n",
       "      <td>organic_search</td>\n",
       "    </tr>\n",
       "    <tr>\n",
       "      <th>...</th>\n",
       "      <td>...</td>\n",
       "      <td>...</td>\n",
       "      <td>...</td>\n",
       "      <td>...</td>\n",
       "    </tr>\n",
       "    <tr>\n",
       "      <th>7995</th>\n",
       "      <td>feaba3ffcd2ff97501696c7f9a42f41c</td>\n",
       "      <td>2018-05-22</td>\n",
       "      <td>e42a14209c69c3e9cc6b042620465f12</td>\n",
       "      <td>paid_search</td>\n",
       "    </tr>\n",
       "    <tr>\n",
       "      <th>7996</th>\n",
       "      <td>a79cb53cd009ab92e0143b92baa2407b</td>\n",
       "      <td>2018-03-27</td>\n",
       "      <td>c494978688ccf66ad9fad3d6a3338c22</td>\n",
       "      <td>paid_search</td>\n",
       "    </tr>\n",
       "    <tr>\n",
       "      <th>7997</th>\n",
       "      <td>68f049a23ab109c6a0f6989bb9a02994</td>\n",
       "      <td>2017-08-27</td>\n",
       "      <td>b48ec5f3b04e9068441002a19df93c6c</td>\n",
       "      <td>organic_search</td>\n",
       "    </tr>\n",
       "    <tr>\n",
       "      <th>7998</th>\n",
       "      <td>4f8c96e2509b984329044c6682c88ee9</td>\n",
       "      <td>2017-10-06</td>\n",
       "      <td>a56671a54260a44923d32c2f08fad39c</td>\n",
       "      <td>organic_search</td>\n",
       "    </tr>\n",
       "    <tr>\n",
       "      <th>7999</th>\n",
       "      <td>8a6492305a5fbcdcdd1a7f5a90764c07</td>\n",
       "      <td>2018-01-11</td>\n",
       "      <td>b76ef37428e6799c421989521c0e5077</td>\n",
       "      <td>direct_traffic</td>\n",
       "    </tr>\n",
       "  </tbody>\n",
       "</table>\n",
       "<p>8000 rows × 4 columns</p>\n",
       "</div>"
      ],
      "text/plain": [
       "                                mql_id first_contact_date  \\\n",
       "0     dac32acd4db4c29c230538b72f8dd87d         2018-02-01   \n",
       "1     8c18d1de7f67e60dbd64e3c07d7e9d5d         2017-10-20   \n",
       "2     b4bc852d233dfefc5131f593b538befa         2018-03-22   \n",
       "3     6be030b81c75970747525b843c1ef4f8         2018-01-22   \n",
       "4     5420aad7fec3549a85876ba1c529bd84         2018-02-21   \n",
       "...                                ...                ...   \n",
       "7995  feaba3ffcd2ff97501696c7f9a42f41c         2018-05-22   \n",
       "7996  a79cb53cd009ab92e0143b92baa2407b         2018-03-27   \n",
       "7997  68f049a23ab109c6a0f6989bb9a02994         2017-08-27   \n",
       "7998  4f8c96e2509b984329044c6682c88ee9         2017-10-06   \n",
       "7999  8a6492305a5fbcdcdd1a7f5a90764c07         2018-01-11   \n",
       "\n",
       "                       landing_page_id          origin  \n",
       "0     88740e65d5d6b056e0cda098e1ea6313          social  \n",
       "1     007f9098284a86ee80ddeb25d53e0af8     paid_search  \n",
       "2     a7982125ff7aa3b2054c6e44f9d28522  organic_search  \n",
       "3     d45d558f0daeecf3cccdffe3c59684aa           email  \n",
       "4     b48ec5f3b04e9068441002a19df93c6c  organic_search  \n",
       "...                                ...             ...  \n",
       "7995  e42a14209c69c3e9cc6b042620465f12     paid_search  \n",
       "7996  c494978688ccf66ad9fad3d6a3338c22     paid_search  \n",
       "7997  b48ec5f3b04e9068441002a19df93c6c  organic_search  \n",
       "7998  a56671a54260a44923d32c2f08fad39c  organic_search  \n",
       "7999  b76ef37428e6799c421989521c0e5077  direct_traffic  \n",
       "\n",
       "[8000 rows x 4 columns]"
      ]
     },
     "execution_count": 12,
     "metadata": {},
     "output_type": "execute_result"
    }
   ],
   "source": [
    "#marketing_qualified_leads"
   ]
  },
  {
   "cell_type": "code",
   "execution_count": 4,
   "metadata": {},
   "outputs": [
    {
     "name": "stdout",
     "output_type": "stream",
     "text": [
      "<class 'pandas.core.frame.DataFrame'>\n",
      "RangeIndex: 8000 entries, 0 to 7999\n",
      "Data columns (total 4 columns):\n",
      " #   Column              Non-Null Count  Dtype \n",
      "---  ------              --------------  ----- \n",
      " 0   mql_id              8000 non-null   object\n",
      " 1   first_contact_date  8000 non-null   object\n",
      " 2   landing_page_id     8000 non-null   object\n",
      " 3   origin              7940 non-null   object\n",
      "dtypes: object(4)\n",
      "memory usage: 250.1+ KB\n"
     ]
    }
   ],
   "source": [
    "#marketing_qualified_leads.info()"
   ]
  },
  {
   "cell_type": "code",
   "execution_count": 13,
   "metadata": {},
   "outputs": [],
   "source": [
    "#En la columna 'origin' reemplamos los NaN por 'Sin Dato'\n",
    "marketing_qualified_leads['origin']=marketing_qualified_leads['origin'].replace(np.nan,'Sin Dato')"
   ]
  },
  {
   "cell_type": "code",
   "execution_count": 14,
   "metadata": {},
   "outputs": [
    {
     "data": {
      "text/plain": [
       "mql_id                0\n",
       "first_contact_date    0\n",
       "landing_page_id       0\n",
       "origin                0\n",
       "dtype: int64"
      ]
     },
     "execution_count": 14,
     "metadata": {},
     "output_type": "execute_result"
    }
   ],
   "source": [
    "#marketing_qualified_leads.isnull().sum()"
   ]
  },
  {
   "cell_type": "code",
   "execution_count": 16,
   "metadata": {},
   "outputs": [],
   "source": [
    "#Cambiaremos el tipo de dato de la columna 'first_contact_date'\n",
    "marketing_qualified_leads['first_contact_date']=marketing_qualified_leads['first_contact_date'].astype('datetime64')"
   ]
  },
  {
   "cell_type": "code",
   "execution_count": 17,
   "metadata": {},
   "outputs": [],
   "source": [
    "#Creamos el dataset limpio, que se guardará en la carpeta Datasets_procesados\n",
    "marketing_qualified_leads.to_csv('../Datasets_procesado/marketing_qualified_leads.csv')"
   ]
  }
 ],
 "metadata": {
  "kernelspec": {
   "display_name": "base",
   "language": "python",
   "name": "python3"
  },
  "language_info": {
   "codemirror_mode": {
    "name": "ipython",
    "version": 3
   },
   "file_extension": ".py",
   "mimetype": "text/x-python",
   "name": "python",
   "nbconvert_exporter": "python",
   "pygments_lexer": "ipython3",
   "version": "3.8.8"
  },
  "orig_nbformat": 4,
  "vscode": {
   "interpreter": {
    "hash": "fb49de33f1253e0a00abba5075262790ec5e61c95159d231b0a71d643fd4591d"
   }
  }
 },
 "nbformat": 4,
 "nbformat_minor": 2
}
