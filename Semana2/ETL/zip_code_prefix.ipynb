{
 "cells": [
  {
   "cell_type": "markdown",
   "metadata": {},
   "source": [
    "## Librerias"
   ]
  },
  {
   "cell_type": "code",
   "execution_count": 1,
   "metadata": {},
   "outputs": [],
   "source": [
    "import pandas as pd\n",
    "import numpy as np"
   ]
  },
  {
   "attachments": {},
   "cell_type": "markdown",
   "metadata": {},
   "source": [
    "## Cargo datasets"
   ]
  },
  {
   "cell_type": "code",
   "execution_count": 2,
   "metadata": {},
   "outputs": [],
   "source": [
    "url1 = 'https://raw.githubusercontent.com/ronalcabrera/PG_Olist/main/Datasets/olist_sellers_dataset.csv'\n",
    "url2 = 'https://raw.githubusercontent.com/ronalcabrera/PG_Olist/main/Datasets/olist_customers_dataset.csv'\n",
    "\n",
    "sellers = pd.read_csv(url1, delimiter=',', encoding='UTF-8')\n",
    "customers = pd.read_csv(url2, delimiter=',', encoding='UTF-8')"
   ]
  },
  {
   "attachments": {},
   "cell_type": "markdown",
   "metadata": {},
   "source": [
    "## Creo tabla con los prefijos y sus correspondientes estados"
   ]
  },
  {
   "cell_type": "code",
   "execution_count": 42,
   "metadata": {},
   "outputs": [],
   "source": [
    "# Separo los prefijos únicos de ambas tablas y las convierto en listas.\n",
    "prefix = customers['customer_zip_code_prefix'].unique().tolist()\n",
    "aux = sellers['seller_zip_code_prefix'].unique().tolist()\n",
    "\n",
    "# Agrego a la lista final únicamente los prefijos que no estaban en el otro dataframe.\n",
    "for item in aux:\n",
    "    if not(item in prefix):\n",
    "        prefix.append(item)\n",
    "\n",
    "# Creo el dataframe que voy a exportar, y agrego la columna prefijos.\n",
    "zip_code_prefix = pd.DataFrame()\n",
    "zip_code_prefix['prefix'] = prefix\n",
    "\n",
    "# Ahora le agrego la columna del estado correspondiente a cada prefijo\n",
    "czcp = zip_code_prefix.prefix # abrevio para escribir menos y sea mas facil leer.\n",
    "\n",
    "zip_code_prefix['customer_state'] = np.where((czcp<20000),'SP',\n",
    "                                    np.where((czcp>19999)&(czcp<29000),'RJ',\n",
    "                                    np.where((czcp>28999)&(czcp<30000),'ES',\n",
    "                                    np.where((czcp>29999)&(czcp<40000),'MG',\n",
    "                                    np.where((czcp>39999)&(czcp<49000),'BA',\n",
    "                                    np.where((czcp>48999)&(czcp<50000),'SE',\n",
    "                                    np.where((czcp>49999)&(czcp<57000),'PE',\n",
    "                                    np.where((czcp>56999)&(czcp<58000),'AL',\n",
    "                                    np.where((czcp>57999)&(czcp<59000),'PB',\n",
    "                                    np.where((czcp>58999)&(czcp<60000),'RN',\n",
    "                                    np.where((czcp>59999)&(czcp<64000),'CE',\n",
    "                                    np.where((czcp>63999)&(czcp<65000),'PI',\n",
    "                                    np.where((czcp>64999)&(czcp<66000),'MA',\n",
    "                                    np.where((czcp>65999)&(czcp<68900),'PA',\n",
    "                                    np.where((czcp>68899)&(czcp<69000),'AP',\n",
    "                                    np.where((czcp>68999)&(czcp<69300),'AM',\n",
    "                                    np.where((czcp>69299)&(czcp<69400),'RR',\n",
    "                                    np.where((czcp>69399)&(czcp<69900),'AM',\n",
    "                                    np.where((czcp>69899)&(czcp<70000),'AC',\n",
    "                                    np.where((czcp>69999)&(czcp<72800),'DF',\n",
    "                                    np.where((czcp>72799)&(czcp<73000),'GO',\n",
    "                                    np.where((czcp>72999)&(czcp<73404),'DF',\n",
    "                                    np.where((czcp>73403)&(czcp<76800),'GO',\n",
    "                                    np.where((czcp>76799)&(czcp<77000),'RO',\n",
    "                                    np.where((czcp>76999)&(czcp<78000),'TO',\n",
    "                                    np.where((czcp>77999)&(czcp<78900),'MT',\n",
    "                                    np.where((czcp>78899)&(czcp<79000),'RO',\n",
    "                                    np.where((czcp>78999)&(czcp<80000),'MS',\n",
    "                                    np.where((czcp>79999)&(czcp<88000),'PR',\n",
    "                                    np.where((czcp>87999)&(czcp<90000),'SC',\n",
    "                                    np.where((czcp>89999)&(czcp<100000),'SC',\n",
    "                                    'S/D' # Si no esta en el rango, sin datos.\n",
    "                                    )))))))))))))))))))))))))))))))"
   ]
  },
  {
   "attachments": {},
   "cell_type": "markdown",
   "metadata": {},
   "source": [
    "## Exporto a csv"
   ]
  },
  {
   "cell_type": "code",
   "execution_count": 45,
   "metadata": {},
   "outputs": [],
   "source": [
    "zip_code_prefix.to_csv('./PG_Olist/Semana2/Dataset_procesado/zip_code_prefix.csv', index=False)"
   ]
  }
 ],
 "metadata": {
  "kernelspec": {
   "display_name": "Python 3",
   "language": "python",
   "name": "python3"
  },
  "language_info": {
   "codemirror_mode": {
    "name": "ipython",
    "version": 3
   },
   "file_extension": ".py",
   "mimetype": "text/x-python",
   "name": "python",
   "nbconvert_exporter": "python",
   "pygments_lexer": "ipython3",
   "version": "3.10.8"
  },
  "orig_nbformat": 4,
  "vscode": {
   "interpreter": {
    "hash": "55a808d16bf328e86a0bb0594659d349c68917da1cea92407dc92d39412f9ec9"
   }
  }
 },
 "nbformat": 4,
 "nbformat_minor": 2
}
